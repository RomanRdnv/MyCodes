{
 "cells": [
  {
   "cell_type": "markdown",
   "metadata": {
    "toc": true
   },
   "source": [
    "<h1>Содержание<span class=\"tocSkip\"></span></h1>\n",
    "<div class=\"toc\"><ul class=\"toc-item\"><li><span><a href=\"#Загрузка-данных\" data-toc-modified-id=\"Загрузка-данных-1\"><span class=\"toc-item-num\">1&nbsp;&nbsp;</span>Загрузка данных</a></span></li><li><span><a href=\"#Умножение-матриц\" data-toc-modified-id=\"Умножение-матриц-2\"><span class=\"toc-item-num\">2&nbsp;&nbsp;</span>Умножение матриц</a></span></li><li><span><a href=\"#Алгоритм-преобразования\" data-toc-modified-id=\"Алгоритм-преобразования-3\"><span class=\"toc-item-num\">3&nbsp;&nbsp;</span>Алгоритм преобразования</a></span></li><li><span><a href=\"#Проверка-алгоритма\" data-toc-modified-id=\"Проверка-алгоритма-4\"><span class=\"toc-item-num\">4&nbsp;&nbsp;</span>Проверка алгоритма</a></span></li><li><span><a href=\"#Финальный-вывод\" data-toc-modified-id=\"Финальный-вывод-5\"><span class=\"toc-item-num\">5&nbsp;&nbsp;</span>Финальный вывод</a></span></li><li><span><a href=\"#Чек-лист-проверки\" data-toc-modified-id=\"Чек-лист-проверки-6\"><span class=\"toc-item-num\">6&nbsp;&nbsp;</span>Чек-лист проверки</a></span></li></ul></div>"
   ]
  },
  {
   "cell_type": "markdown",
   "metadata": {},
   "source": [
    "# Защита персональных данных клиентов"
   ]
  },
  {
   "cell_type": "markdown",
   "metadata": {},
   "source": [
    "Вам нужно защитить данные клиентов страховой компании «Хоть потоп». Разработайте такой метод преобразования данных, чтобы по ним было сложно восстановить персональную информацию. Обоснуйте корректность его работы.\n",
    "\n",
    "Нужно защитить данные, чтобы при преобразовании качество моделей машинного обучения не ухудшилось. Подбирать наилучшую модель не требуется.\n",
    "\n",
    "Признаки: пол, возраст и зарплата застрахованного, а также количество членов его семьи.\n",
    "\n",
    "Целевой признак: количество страховых выплат клиенту за последние 5 лет.\n",
    "\n",
    "Соответственно данные представлены в виде пяти столбцов, четыре из которых - признаки, а один оставшийся - целевой признак."
   ]
  },
  {
   "cell_type": "markdown",
   "metadata": {},
   "source": [
    "## Загрузка данных"
   ]
  },
  {
   "cell_type": "code",
   "execution_count": 1,
   "metadata": {},
   "outputs": [],
   "source": [
    "import pandas as pd\n",
    "\n",
    "#import seaborn as sns\n",
    "\n",
    "import numpy as np\n",
    "\n",
    "import matplotlib.pyplot as plt\n",
    "\n",
    "from sklearn.linear_model import LinearRegression\n",
    "from sklearn.metrics import r2_score"
   ]
  },
  {
   "cell_type": "code",
   "execution_count": 2,
   "metadata": {},
   "outputs": [],
   "source": [
    "data = pd.read_csv('/datasets/insurance.csv')"
   ]
  },
  {
   "cell_type": "code",
   "execution_count": 3,
   "metadata": {},
   "outputs": [
    {
     "data": {
      "text/html": [
       "<div>\n",
       "<style scoped>\n",
       "    .dataframe tbody tr th:only-of-type {\n",
       "        vertical-align: middle;\n",
       "    }\n",
       "\n",
       "    .dataframe tbody tr th {\n",
       "        vertical-align: top;\n",
       "    }\n",
       "\n",
       "    .dataframe thead th {\n",
       "        text-align: right;\n",
       "    }\n",
       "</style>\n",
       "<table border=\"1\" class=\"dataframe\">\n",
       "  <thead>\n",
       "    <tr style=\"text-align: right;\">\n",
       "      <th></th>\n",
       "      <th>Пол</th>\n",
       "      <th>Возраст</th>\n",
       "      <th>Зарплата</th>\n",
       "      <th>Члены семьи</th>\n",
       "      <th>Страховые выплаты</th>\n",
       "    </tr>\n",
       "  </thead>\n",
       "  <tbody>\n",
       "    <tr>\n",
       "      <th>0</th>\n",
       "      <td>1</td>\n",
       "      <td>41.0</td>\n",
       "      <td>49600.0</td>\n",
       "      <td>1</td>\n",
       "      <td>0</td>\n",
       "    </tr>\n",
       "    <tr>\n",
       "      <th>1</th>\n",
       "      <td>0</td>\n",
       "      <td>46.0</td>\n",
       "      <td>38000.0</td>\n",
       "      <td>1</td>\n",
       "      <td>1</td>\n",
       "    </tr>\n",
       "    <tr>\n",
       "      <th>2</th>\n",
       "      <td>0</td>\n",
       "      <td>29.0</td>\n",
       "      <td>21000.0</td>\n",
       "      <td>0</td>\n",
       "      <td>0</td>\n",
       "    </tr>\n",
       "    <tr>\n",
       "      <th>3</th>\n",
       "      <td>0</td>\n",
       "      <td>21.0</td>\n",
       "      <td>41700.0</td>\n",
       "      <td>2</td>\n",
       "      <td>0</td>\n",
       "    </tr>\n",
       "    <tr>\n",
       "      <th>4</th>\n",
       "      <td>1</td>\n",
       "      <td>28.0</td>\n",
       "      <td>26100.0</td>\n",
       "      <td>0</td>\n",
       "      <td>0</td>\n",
       "    </tr>\n",
       "    <tr>\n",
       "      <th>5</th>\n",
       "      <td>1</td>\n",
       "      <td>43.0</td>\n",
       "      <td>41000.0</td>\n",
       "      <td>2</td>\n",
       "      <td>1</td>\n",
       "    </tr>\n",
       "    <tr>\n",
       "      <th>6</th>\n",
       "      <td>1</td>\n",
       "      <td>39.0</td>\n",
       "      <td>39700.0</td>\n",
       "      <td>2</td>\n",
       "      <td>0</td>\n",
       "    </tr>\n",
       "    <tr>\n",
       "      <th>7</th>\n",
       "      <td>1</td>\n",
       "      <td>25.0</td>\n",
       "      <td>38600.0</td>\n",
       "      <td>4</td>\n",
       "      <td>0</td>\n",
       "    </tr>\n",
       "    <tr>\n",
       "      <th>8</th>\n",
       "      <td>1</td>\n",
       "      <td>36.0</td>\n",
       "      <td>49700.0</td>\n",
       "      <td>1</td>\n",
       "      <td>0</td>\n",
       "    </tr>\n",
       "    <tr>\n",
       "      <th>9</th>\n",
       "      <td>1</td>\n",
       "      <td>32.0</td>\n",
       "      <td>51700.0</td>\n",
       "      <td>1</td>\n",
       "      <td>0</td>\n",
       "    </tr>\n",
       "    <tr>\n",
       "      <th>10</th>\n",
       "      <td>1</td>\n",
       "      <td>25.0</td>\n",
       "      <td>36600.0</td>\n",
       "      <td>1</td>\n",
       "      <td>0</td>\n",
       "    </tr>\n",
       "    <tr>\n",
       "      <th>11</th>\n",
       "      <td>1</td>\n",
       "      <td>38.0</td>\n",
       "      <td>29300.0</td>\n",
       "      <td>0</td>\n",
       "      <td>0</td>\n",
       "    </tr>\n",
       "    <tr>\n",
       "      <th>12</th>\n",
       "      <td>0</td>\n",
       "      <td>23.0</td>\n",
       "      <td>39500.0</td>\n",
       "      <td>3</td>\n",
       "      <td>0</td>\n",
       "    </tr>\n",
       "    <tr>\n",
       "      <th>13</th>\n",
       "      <td>0</td>\n",
       "      <td>21.0</td>\n",
       "      <td>55000.0</td>\n",
       "      <td>0</td>\n",
       "      <td>0</td>\n",
       "    </tr>\n",
       "    <tr>\n",
       "      <th>14</th>\n",
       "      <td>0</td>\n",
       "      <td>40.0</td>\n",
       "      <td>43700.0</td>\n",
       "      <td>1</td>\n",
       "      <td>0</td>\n",
       "    </tr>\n",
       "    <tr>\n",
       "      <th>15</th>\n",
       "      <td>1</td>\n",
       "      <td>34.0</td>\n",
       "      <td>23300.0</td>\n",
       "      <td>0</td>\n",
       "      <td>0</td>\n",
       "    </tr>\n",
       "    <tr>\n",
       "      <th>16</th>\n",
       "      <td>1</td>\n",
       "      <td>26.0</td>\n",
       "      <td>48900.0</td>\n",
       "      <td>2</td>\n",
       "      <td>0</td>\n",
       "    </tr>\n",
       "    <tr>\n",
       "      <th>17</th>\n",
       "      <td>1</td>\n",
       "      <td>41.0</td>\n",
       "      <td>33200.0</td>\n",
       "      <td>2</td>\n",
       "      <td>0</td>\n",
       "    </tr>\n",
       "    <tr>\n",
       "      <th>18</th>\n",
       "      <td>1</td>\n",
       "      <td>42.0</td>\n",
       "      <td>49700.0</td>\n",
       "      <td>0</td>\n",
       "      <td>1</td>\n",
       "    </tr>\n",
       "    <tr>\n",
       "      <th>19</th>\n",
       "      <td>1</td>\n",
       "      <td>27.0</td>\n",
       "      <td>36900.0</td>\n",
       "      <td>0</td>\n",
       "      <td>0</td>\n",
       "    </tr>\n",
       "  </tbody>\n",
       "</table>\n",
       "</div>"
      ],
      "text/plain": [
       "    Пол  Возраст  Зарплата  Члены семьи  Страховые выплаты\n",
       "0     1     41.0   49600.0            1                  0\n",
       "1     0     46.0   38000.0            1                  1\n",
       "2     0     29.0   21000.0            0                  0\n",
       "3     0     21.0   41700.0            2                  0\n",
       "4     1     28.0   26100.0            0                  0\n",
       "5     1     43.0   41000.0            2                  1\n",
       "6     1     39.0   39700.0            2                  0\n",
       "7     1     25.0   38600.0            4                  0\n",
       "8     1     36.0   49700.0            1                  0\n",
       "9     1     32.0   51700.0            1                  0\n",
       "10    1     25.0   36600.0            1                  0\n",
       "11    1     38.0   29300.0            0                  0\n",
       "12    0     23.0   39500.0            3                  0\n",
       "13    0     21.0   55000.0            0                  0\n",
       "14    0     40.0   43700.0            1                  0\n",
       "15    1     34.0   23300.0            0                  0\n",
       "16    1     26.0   48900.0            2                  0\n",
       "17    1     41.0   33200.0            2                  0\n",
       "18    1     42.0   49700.0            0                  1\n",
       "19    1     27.0   36900.0            0                  0"
      ]
     },
     "execution_count": 3,
     "metadata": {},
     "output_type": "execute_result"
    }
   ],
   "source": [
    "data.head(20)"
   ]
  },
  {
   "cell_type": "code",
   "execution_count": 4,
   "metadata": {},
   "outputs": [
    {
     "name": "stdout",
     "output_type": "stream",
     "text": [
      "<class 'pandas.core.frame.DataFrame'>\n",
      "RangeIndex: 5000 entries, 0 to 4999\n",
      "Data columns (total 5 columns):\n",
      " #   Column             Non-Null Count  Dtype  \n",
      "---  ------             --------------  -----  \n",
      " 0   Пол                5000 non-null   int64  \n",
      " 1   Возраст            5000 non-null   float64\n",
      " 2   Зарплата           5000 non-null   float64\n",
      " 3   Члены семьи        5000 non-null   int64  \n",
      " 4   Страховые выплаты  5000 non-null   int64  \n",
      "dtypes: float64(2), int64(3)\n",
      "memory usage: 195.4 KB\n"
     ]
    }
   ],
   "source": [
    "data.info()"
   ]
  },
  {
   "cell_type": "code",
   "execution_count": 5,
   "metadata": {},
   "outputs": [
    {
     "data": {
      "text/html": [
       "<div>\n",
       "<style scoped>\n",
       "    .dataframe tbody tr th:only-of-type {\n",
       "        vertical-align: middle;\n",
       "    }\n",
       "\n",
       "    .dataframe tbody tr th {\n",
       "        vertical-align: top;\n",
       "    }\n",
       "\n",
       "    .dataframe thead th {\n",
       "        text-align: right;\n",
       "    }\n",
       "</style>\n",
       "<table border=\"1\" class=\"dataframe\">\n",
       "  <thead>\n",
       "    <tr style=\"text-align: right;\">\n",
       "      <th></th>\n",
       "      <th>Пол</th>\n",
       "      <th>Возраст</th>\n",
       "      <th>Зарплата</th>\n",
       "      <th>Члены семьи</th>\n",
       "      <th>Страховые выплаты</th>\n",
       "    </tr>\n",
       "  </thead>\n",
       "  <tbody>\n",
       "    <tr>\n",
       "      <th>count</th>\n",
       "      <td>5000.000000</td>\n",
       "      <td>5000.000000</td>\n",
       "      <td>5000.000000</td>\n",
       "      <td>5000.000000</td>\n",
       "      <td>5000.000000</td>\n",
       "    </tr>\n",
       "    <tr>\n",
       "      <th>mean</th>\n",
       "      <td>0.499000</td>\n",
       "      <td>30.952800</td>\n",
       "      <td>39916.360000</td>\n",
       "      <td>1.194200</td>\n",
       "      <td>0.148000</td>\n",
       "    </tr>\n",
       "    <tr>\n",
       "      <th>std</th>\n",
       "      <td>0.500049</td>\n",
       "      <td>8.440807</td>\n",
       "      <td>9900.083569</td>\n",
       "      <td>1.091387</td>\n",
       "      <td>0.463183</td>\n",
       "    </tr>\n",
       "    <tr>\n",
       "      <th>min</th>\n",
       "      <td>0.000000</td>\n",
       "      <td>18.000000</td>\n",
       "      <td>5300.000000</td>\n",
       "      <td>0.000000</td>\n",
       "      <td>0.000000</td>\n",
       "    </tr>\n",
       "    <tr>\n",
       "      <th>25%</th>\n",
       "      <td>0.000000</td>\n",
       "      <td>24.000000</td>\n",
       "      <td>33300.000000</td>\n",
       "      <td>0.000000</td>\n",
       "      <td>0.000000</td>\n",
       "    </tr>\n",
       "    <tr>\n",
       "      <th>50%</th>\n",
       "      <td>0.000000</td>\n",
       "      <td>30.000000</td>\n",
       "      <td>40200.000000</td>\n",
       "      <td>1.000000</td>\n",
       "      <td>0.000000</td>\n",
       "    </tr>\n",
       "    <tr>\n",
       "      <th>75%</th>\n",
       "      <td>1.000000</td>\n",
       "      <td>37.000000</td>\n",
       "      <td>46600.000000</td>\n",
       "      <td>2.000000</td>\n",
       "      <td>0.000000</td>\n",
       "    </tr>\n",
       "    <tr>\n",
       "      <th>max</th>\n",
       "      <td>1.000000</td>\n",
       "      <td>65.000000</td>\n",
       "      <td>79000.000000</td>\n",
       "      <td>6.000000</td>\n",
       "      <td>5.000000</td>\n",
       "    </tr>\n",
       "  </tbody>\n",
       "</table>\n",
       "</div>"
      ],
      "text/plain": [
       "               Пол      Возраст      Зарплата  Члены семьи  Страховые выплаты\n",
       "count  5000.000000  5000.000000   5000.000000  5000.000000        5000.000000\n",
       "mean      0.499000    30.952800  39916.360000     1.194200           0.148000\n",
       "std       0.500049     8.440807   9900.083569     1.091387           0.463183\n",
       "min       0.000000    18.000000   5300.000000     0.000000           0.000000\n",
       "25%       0.000000    24.000000  33300.000000     0.000000           0.000000\n",
       "50%       0.000000    30.000000  40200.000000     1.000000           0.000000\n",
       "75%       1.000000    37.000000  46600.000000     2.000000           0.000000\n",
       "max       1.000000    65.000000  79000.000000     6.000000           5.000000"
      ]
     },
     "execution_count": 5,
     "metadata": {},
     "output_type": "execute_result"
    }
   ],
   "source": [
    "data.describe()"
   ]
  },
  {
   "cell_type": "markdown",
   "metadata": {},
   "source": [
    "</font><font color='Black'><b>Пояснение</b></font><br>\n",
    "<font color='Black'>Поищем дубликаты"
   ]
  },
  {
   "cell_type": "code",
   "execution_count": 6,
   "metadata": {},
   "outputs": [
    {
     "data": {
      "text/html": [
       "<div>\n",
       "<style scoped>\n",
       "    .dataframe tbody tr th:only-of-type {\n",
       "        vertical-align: middle;\n",
       "    }\n",
       "\n",
       "    .dataframe tbody tr th {\n",
       "        vertical-align: top;\n",
       "    }\n",
       "\n",
       "    .dataframe thead th {\n",
       "        text-align: right;\n",
       "    }\n",
       "</style>\n",
       "<table border=\"1\" class=\"dataframe\">\n",
       "  <thead>\n",
       "    <tr style=\"text-align: right;\">\n",
       "      <th></th>\n",
       "      <th>Пол</th>\n",
       "      <th>Возраст</th>\n",
       "      <th>Зарплата</th>\n",
       "      <th>Члены семьи</th>\n",
       "      <th>Страховые выплаты</th>\n",
       "    </tr>\n",
       "  </thead>\n",
       "  <tbody>\n",
       "    <tr>\n",
       "      <th>281</th>\n",
       "      <td>1</td>\n",
       "      <td>39.0</td>\n",
       "      <td>48100.0</td>\n",
       "      <td>1</td>\n",
       "      <td>0</td>\n",
       "    </tr>\n",
       "    <tr>\n",
       "      <th>488</th>\n",
       "      <td>1</td>\n",
       "      <td>24.0</td>\n",
       "      <td>32900.0</td>\n",
       "      <td>1</td>\n",
       "      <td>0</td>\n",
       "    </tr>\n",
       "    <tr>\n",
       "      <th>513</th>\n",
       "      <td>0</td>\n",
       "      <td>31.0</td>\n",
       "      <td>37400.0</td>\n",
       "      <td>2</td>\n",
       "      <td>0</td>\n",
       "    </tr>\n",
       "    <tr>\n",
       "      <th>718</th>\n",
       "      <td>1</td>\n",
       "      <td>22.0</td>\n",
       "      <td>32600.0</td>\n",
       "      <td>1</td>\n",
       "      <td>0</td>\n",
       "    </tr>\n",
       "    <tr>\n",
       "      <th>785</th>\n",
       "      <td>0</td>\n",
       "      <td>20.0</td>\n",
       "      <td>35800.0</td>\n",
       "      <td>0</td>\n",
       "      <td>0</td>\n",
       "    </tr>\n",
       "    <tr>\n",
       "      <th>...</th>\n",
       "      <td>...</td>\n",
       "      <td>...</td>\n",
       "      <td>...</td>\n",
       "      <td>...</td>\n",
       "      <td>...</td>\n",
       "    </tr>\n",
       "    <tr>\n",
       "      <th>4793</th>\n",
       "      <td>1</td>\n",
       "      <td>24.0</td>\n",
       "      <td>37800.0</td>\n",
       "      <td>0</td>\n",
       "      <td>0</td>\n",
       "    </tr>\n",
       "    <tr>\n",
       "      <th>4902</th>\n",
       "      <td>1</td>\n",
       "      <td>35.0</td>\n",
       "      <td>38700.0</td>\n",
       "      <td>1</td>\n",
       "      <td>0</td>\n",
       "    </tr>\n",
       "    <tr>\n",
       "      <th>4935</th>\n",
       "      <td>1</td>\n",
       "      <td>19.0</td>\n",
       "      <td>32700.0</td>\n",
       "      <td>0</td>\n",
       "      <td>0</td>\n",
       "    </tr>\n",
       "    <tr>\n",
       "      <th>4945</th>\n",
       "      <td>1</td>\n",
       "      <td>21.0</td>\n",
       "      <td>45800.0</td>\n",
       "      <td>0</td>\n",
       "      <td>0</td>\n",
       "    </tr>\n",
       "    <tr>\n",
       "      <th>4965</th>\n",
       "      <td>0</td>\n",
       "      <td>22.0</td>\n",
       "      <td>40100.0</td>\n",
       "      <td>1</td>\n",
       "      <td>0</td>\n",
       "    </tr>\n",
       "  </tbody>\n",
       "</table>\n",
       "<p>153 rows × 5 columns</p>\n",
       "</div>"
      ],
      "text/plain": [
       "      Пол  Возраст  Зарплата  Члены семьи  Страховые выплаты\n",
       "281     1     39.0   48100.0            1                  0\n",
       "488     1     24.0   32900.0            1                  0\n",
       "513     0     31.0   37400.0            2                  0\n",
       "718     1     22.0   32600.0            1                  0\n",
       "785     0     20.0   35800.0            0                  0\n",
       "...   ...      ...       ...          ...                ...\n",
       "4793    1     24.0   37800.0            0                  0\n",
       "4902    1     35.0   38700.0            1                  0\n",
       "4935    1     19.0   32700.0            0                  0\n",
       "4945    1     21.0   45800.0            0                  0\n",
       "4965    0     22.0   40100.0            1                  0\n",
       "\n",
       "[153 rows x 5 columns]"
      ]
     },
     "execution_count": 6,
     "metadata": {},
     "output_type": "execute_result"
    }
   ],
   "source": [
    "data[data.duplicated()]"
   ]
  },
  {
   "cell_type": "code",
   "execution_count": 7,
   "metadata": {},
   "outputs": [
    {
     "name": "stdout",
     "output_type": "stream",
     "text": [
      "0.0306\n"
     ]
    }
   ],
   "source": [
    "print(len(data[data.duplicated()])/len(data))"
   ]
  },
  {
   "cell_type": "markdown",
   "metadata": {},
   "source": [
    "</font><font color='Black'><b>Пояснение</b></font><br>\n",
    "<font color='Black'>Было найдено 153 дубликата, что составляет около 3% от общего объема данных. Это допустимая величина для удаления, поэтому оставляет только оригинальные строки"
   ]
  },
  {
   "cell_type": "code",
   "execution_count": 8,
   "metadata": {},
   "outputs": [],
   "source": [
    "data = data.drop_duplicates()"
   ]
  },
  {
   "cell_type": "code",
   "execution_count": 9,
   "metadata": {},
   "outputs": [
    {
     "name": "stdout",
     "output_type": "stream",
     "text": [
      "<class 'pandas.core.frame.DataFrame'>\n",
      "Int64Index: 4847 entries, 0 to 4999\n",
      "Data columns (total 5 columns):\n",
      " #   Column             Non-Null Count  Dtype  \n",
      "---  ------             --------------  -----  \n",
      " 0   Пол                4847 non-null   int64  \n",
      " 1   Возраст            4847 non-null   float64\n",
      " 2   Зарплата           4847 non-null   float64\n",
      " 3   Члены семьи        4847 non-null   int64  \n",
      " 4   Страховые выплаты  4847 non-null   int64  \n",
      "dtypes: float64(2), int64(3)\n",
      "memory usage: 227.2 KB\n"
     ]
    }
   ],
   "source": [
    "# Проверка\n",
    "data.info()"
   ]
  },
  {
   "cell_type": "code",
   "execution_count": 10,
   "metadata": {},
   "outputs": [],
   "source": [
    "#plt.figure(figsize = (15,10))\n",
    "#sns.heatmap(data.corr(), cmap=\"YlGnBu\", annot=True)"
   ]
  },
  {
   "cell_type": "markdown",
   "metadata": {},
   "source": [
    "</font><font color='Black'><b>Пояснение</b></font><br>\n",
    "<font color='Black'>Теперь необходим обозначить признаки и целевой параметр. Признаки - все, что не конечный выхлоп, целевой признак - столбец со страховыми выплатами (из условия задания)"
   ]
  },
  {
   "cell_type": "code",
   "execution_count": 11,
   "metadata": {},
   "outputs": [],
   "source": [
    "features = data.drop(['Страховые выплаты'], axis=1)\n",
    "target = data['Страховые выплаты']"
   ]
  },
  {
   "cell_type": "markdown",
   "metadata": {},
   "source": [
    "</font><font color='Black'><b>Промежуточный вывод</b></font><br>\n",
    "<font color='Black'>Итак, с данными ознакомились, они представляют из себя датафрейм размером 5000 строк на 5 столбцов. В целом, при беглом первичном осмотре данных выглядят они корректно, однако было найдено 153 дубликата, от которых мы избавились. Корреляции особой не видим кроме возраста и страховых выплат (коэффициент Пирсона - 0,65). Признаки и целевой признак обозначены. Можно двигаться далее."
   ]
  },
  {
   "cell_type": "markdown",
   "metadata": {},
   "source": [
    "## Умножение матриц"
   ]
  },
  {
   "cell_type": "markdown",
   "metadata": {},
   "source": [
    "В этом задании вы можете записывать формулы в *Jupyter Notebook.*\n",
    "\n",
    "Чтобы записать формулу внутри текста, окружите её символами доллара \\\\$; если снаружи —  двойными символами \\\\$\\\\$. Эти формулы записываются на языке вёрстки *LaTeX.* \n",
    "\n",
    "Для примера мы записали формулы линейной регрессии. Можете их скопировать и отредактировать, чтобы решить задачу.\n",
    "\n",
    "Работать в *LaTeX* необязательно."
   ]
  },
  {
   "cell_type": "markdown",
   "metadata": {},
   "source": [
    "Обозначения:\n",
    "\n",
    "- $X$ — матрица признаков (нулевой столбец состоит из единиц)\n",
    "\n",
    "- $y$ — вектор целевого признака\n",
    "\n",
    "- $P$ — матрица, на которую умножаются признаки\n",
    "\n",
    "- $w$ — вектор весов линейной регрессии (нулевой элемент равен сдвигу)"
   ]
  },
  {
   "cell_type": "markdown",
   "metadata": {},
   "source": [
    "Предсказания:\n",
    "\n",
    "$$\n",
    "a = Xw\n",
    "$$\n",
    "\n",
    "Задача обучения:\n",
    "\n",
    "$$\n",
    "w = \\arg\\min_w MSE(Xw, y)\n",
    "$$\n",
    "\n",
    "Формула обучения:\n",
    "\n",
    "$$\n",
    "w = (X^T X)^{-1} X^T y\n",
    "$$"
   ]
  },
  {
   "cell_type": "markdown",
   "metadata": {},
   "source": [
    "**Ответ:** качество линейной регрессии не изменится.\n",
    "\n",
    "**Обоснование:** итак, у нас есть предсказания - $a$. Если качество линейной регрессии не изменяется, то $a = a'$. Получается, что это и есть тезис, который здесь надо подтвердить или опровергуть.\n",
    "\n",
    "Будем использовать следующие свойства:\n",
    "\n",
    "$(AB)^{T}=B^{T}A^{T}$\n",
    "\n",
    "$(AB)^{-1}=B^{-1}A^{-1}$\n",
    "\n",
    "$AA^{-1}=A^{-1}A=E$\n",
    "\n",
    "$AE=EA=A$\n",
    "\n",
    "Формулы:\n",
    "\n",
    "$a = Xw$\n",
    "\n",
    "$a' = X'w'$, где $X'=XP$, т.е.: $a' = (XP)w'$\n",
    "\n",
    "Исходя из вышеизложенного, чтоб соблюдалось условие $a=a'$, необходимо доказать, что $w' = P^{-1}w$.\n",
    "\n",
    "$w = (X^T X)^{-1} X^T y$\n",
    "\n",
    "$w' = ((XP)^{T} XP)^{-1} (XP)^{T} y=((P^{T}(X^{T}X))P)^{-1}P^{T}X^{T}y=P^{-1}(P^{T}(X^{T}X))^{-1}P^{T}X^{T}y=P^{-1}(X^{T}X)^{-1}(P^{T})^{-1}P^{T}X^{T}y=P^{-1}(X^{T}X)^{-1}EX^{T}y=P^{-1}(X^{T}X)^{-1}X^{T}y=P^{-1}w$\n",
    "\n",
    "Что и требовалось доказать\n",
    "\n"
   ]
  },
  {
   "cell_type": "markdown",
   "metadata": {},
   "source": [
    "## Алгоритм преобразования"
   ]
  },
  {
   "cell_type": "markdown",
   "metadata": {},
   "source": [
    "**Алгоритм**\n",
    "\n",
    "У нас обозначены признаки и целевой признак. Далее мы создадим матрицу размером 4х4 (сколько признаков) случайным образом и проверим ее обратимость. Обучим модель линейной регрессии и посчитаем метрику r2, которая является качественной характеристикой модели. Затем перемножим матрицу с признаками и обратимую матрицу, которые мы создали рандомным образом, так получим преобразованные данные, после чего обучим на них модель и посчитаем снова r2. В конце сравним полученные метрики r2 до и после преобразования, по идее отличий быть не должно."
   ]
  },
  {
   "cell_type": "markdown",
   "metadata": {},
   "source": [
    "**Обоснование**\n",
    "\n",
    "Поскольку эксперимент мы будем проводить полностью согласно тому, что доказали выше, то обоснование адекватности выбранного для решения данной задачи алгоритма с теоретической точки зрения описывается в блоке 2 \"Умножение матриц\"."
   ]
  },
  {
   "cell_type": "markdown",
   "metadata": {},
   "source": [
    "## Проверка алгоритма"
   ]
  },
  {
   "cell_type": "code",
   "execution_count": 12,
   "metadata": {},
   "outputs": [
    {
     "data": {
      "text/plain": [
       "array([[0.89504295, 0.90446108, 0.64103634, 0.07872668],\n",
       "       [0.95434154, 0.85479928, 0.32427208, 0.1393008 ],\n",
       "       [0.4659085 , 0.78083149, 0.61952422, 0.43748953],\n",
       "       [0.0912252 , 0.75168726, 0.68929667, 0.30277211]])"
      ]
     },
     "execution_count": 12,
     "metadata": {},
     "output_type": "execute_result"
    }
   ],
   "source": [
    "# поскольку признака у нас четыре из условия, то и матрица должна быть такого размера\n",
    "matrix = np.random.rand(4, 4)\n",
    "while np.linalg.det(matrix) == 0:\n",
    "    matrix = np.random.rand((4,4))\n",
    "matrix"
   ]
  },
  {
   "cell_type": "markdown",
   "metadata": {},
   "source": [
    "</font><font color='Black'><b>Пояснение</b></font><br>\n",
    "<font color='Black'>Посчитаем определитель полученной матрицы"
   ]
  },
  {
   "cell_type": "code",
   "execution_count": 13,
   "metadata": {},
   "outputs": [
    {
     "name": "stdout",
     "output_type": "stream",
     "text": [
      "-0.03845181684291089\n"
     ]
    }
   ],
   "source": [
    "print(np.linalg.det(matrix))"
   ]
  },
  {
   "cell_type": "markdown",
   "metadata": {},
   "source": [
    "</font><font color='Black'><b>Промежуточный вывод</b></font><br>\n",
    "<font color='Black'>Определитель данной квадратной матрицы не равен нулю, следовательно, у данной матрицы есть обратная матрица"
   ]
  },
  {
   "cell_type": "code",
   "execution_count": 14,
   "metadata": {},
   "outputs": [
    {
     "data": {
      "text/plain": [
       "0.4302010044852066"
      ]
     },
     "execution_count": 14,
     "metadata": {},
     "output_type": "execute_result"
    }
   ],
   "source": [
    "model = LinearRegression().fit(features, target)\n",
    "predictions = model.predict(features)\n",
    "r2 = r2_score(target, predictions)\n",
    "r2"
   ]
  },
  {
   "cell_type": "code",
   "execution_count": 15,
   "metadata": {},
   "outputs": [
    {
     "data": {
      "text/plain": [
       "0.4302010044851867"
      ]
     },
     "execution_count": 15,
     "metadata": {},
     "output_type": "execute_result"
    }
   ],
   "source": [
    "matrix_2 = features @ matrix\n",
    "model.fit(matrix_2, target)\n",
    "predictions_2 = model.predict(matrix_2)\n",
    "r2_2 = r2_score(target, predictions_2)\n",
    "r2_2"
   ]
  },
  {
   "cell_type": "code",
   "execution_count": 16,
   "metadata": {},
   "outputs": [
    {
     "data": {
      "text/plain": [
       "1.9872992140790302e-14"
      ]
     },
     "execution_count": 16,
     "metadata": {},
     "output_type": "execute_result"
    }
   ],
   "source": [
    "r2 - r2_2"
   ]
  },
  {
   "cell_type": "markdown",
   "metadata": {},
   "source": [
    "</font><font color='Black'><b>Промежуточный вывод</b></font><br>\n",
    "<font color='Black'>Изменение качества мизерное, его практически нет"
   ]
  },
  {
   "cell_type": "markdown",
   "metadata": {},
   "source": [
    "## Финальный вывод"
   ]
  },
  {
   "cell_type": "markdown",
   "metadata": {},
   "source": [
    "Задачей данного проекта была проверка факта того, изменится ли качество линейной регрессии после преобразования данных. Метрикой подсчета качества является r2. Ответ - качество линейной регрессии не изменилось, что было доказано как теоретически, так и проверено на практике."
   ]
  },
  {
   "cell_type": "code",
   "execution_count": 17,
   "metadata": {},
   "outputs": [
    {
     "data": {
      "text/html": [
       "<div>\n",
       "<style scoped>\n",
       "    .dataframe tbody tr th:only-of-type {\n",
       "        vertical-align: middle;\n",
       "    }\n",
       "\n",
       "    .dataframe tbody tr th {\n",
       "        vertical-align: top;\n",
       "    }\n",
       "\n",
       "    .dataframe thead th {\n",
       "        text-align: right;\n",
       "    }\n",
       "</style>\n",
       "<table border=\"1\" class=\"dataframe\">\n",
       "  <thead>\n",
       "    <tr style=\"text-align: right;\">\n",
       "      <th></th>\n",
       "      <th>0</th>\n",
       "      <th>1</th>\n",
       "      <th>2</th>\n",
       "      <th>3</th>\n",
       "    </tr>\n",
       "  </thead>\n",
       "  <tbody>\n",
       "    <tr>\n",
       "      <th>0</th>\n",
       "      <td>1.000000e+00</td>\n",
       "      <td>41.0</td>\n",
       "      <td>49600.0</td>\n",
       "      <td>1.000000e+00</td>\n",
       "    </tr>\n",
       "    <tr>\n",
       "      <th>1</th>\n",
       "      <td>-2.786604e-12</td>\n",
       "      <td>46.0</td>\n",
       "      <td>38000.0</td>\n",
       "      <td>1.000000e+00</td>\n",
       "    </tr>\n",
       "    <tr>\n",
       "      <th>2</th>\n",
       "      <td>-3.782521e-13</td>\n",
       "      <td>29.0</td>\n",
       "      <td>21000.0</td>\n",
       "      <td>-2.804046e-12</td>\n",
       "    </tr>\n",
       "    <tr>\n",
       "      <th>3</th>\n",
       "      <td>-1.989552e-11</td>\n",
       "      <td>21.0</td>\n",
       "      <td>41700.0</td>\n",
       "      <td>2.000000e+00</td>\n",
       "    </tr>\n",
       "    <tr>\n",
       "      <th>4</th>\n",
       "      <td>1.000000e+00</td>\n",
       "      <td>28.0</td>\n",
       "      <td>26100.0</td>\n",
       "      <td>-4.870100e-12</td>\n",
       "    </tr>\n",
       "    <tr>\n",
       "      <th>...</th>\n",
       "      <td>...</td>\n",
       "      <td>...</td>\n",
       "      <td>...</td>\n",
       "      <td>...</td>\n",
       "    </tr>\n",
       "    <tr>\n",
       "      <th>4995</th>\n",
       "      <td>-8.891919e-12</td>\n",
       "      <td>28.0</td>\n",
       "      <td>35700.0</td>\n",
       "      <td>2.000000e+00</td>\n",
       "    </tr>\n",
       "    <tr>\n",
       "      <th>4996</th>\n",
       "      <td>-2.146911e-11</td>\n",
       "      <td>34.0</td>\n",
       "      <td>52400.0</td>\n",
       "      <td>1.000000e+00</td>\n",
       "    </tr>\n",
       "    <tr>\n",
       "      <th>4997</th>\n",
       "      <td>-1.046958e-11</td>\n",
       "      <td>20.0</td>\n",
       "      <td>33900.0</td>\n",
       "      <td>2.000000e+00</td>\n",
       "    </tr>\n",
       "    <tr>\n",
       "      <th>4998</th>\n",
       "      <td>1.000000e+00</td>\n",
       "      <td>22.0</td>\n",
       "      <td>32700.0</td>\n",
       "      <td>3.000000e+00</td>\n",
       "    </tr>\n",
       "    <tr>\n",
       "      <th>4999</th>\n",
       "      <td>1.000000e+00</td>\n",
       "      <td>28.0</td>\n",
       "      <td>40600.0</td>\n",
       "      <td>1.000000e+00</td>\n",
       "    </tr>\n",
       "  </tbody>\n",
       "</table>\n",
       "<p>4847 rows × 4 columns</p>\n",
       "</div>"
      ],
      "text/plain": [
       "                 0     1        2             3\n",
       "0     1.000000e+00  41.0  49600.0  1.000000e+00\n",
       "1    -2.786604e-12  46.0  38000.0  1.000000e+00\n",
       "2    -3.782521e-13  29.0  21000.0 -2.804046e-12\n",
       "3    -1.989552e-11  21.0  41700.0  2.000000e+00\n",
       "4     1.000000e+00  28.0  26100.0 -4.870100e-12\n",
       "...            ...   ...      ...           ...\n",
       "4995 -8.891919e-12  28.0  35700.0  2.000000e+00\n",
       "4996 -2.146911e-11  34.0  52400.0  1.000000e+00\n",
       "4997 -1.046958e-11  20.0  33900.0  2.000000e+00\n",
       "4998  1.000000e+00  22.0  32700.0  3.000000e+00\n",
       "4999  1.000000e+00  28.0  40600.0  1.000000e+00\n",
       "\n",
       "[4847 rows x 4 columns]"
      ]
     },
     "execution_count": 17,
     "metadata": {},
     "output_type": "execute_result"
    }
   ],
   "source": [
    "matrix_checking = matrix_2 @ np.linalg.inv(matrix)\n",
    "matrix_checking"
   ]
  },
  {
   "cell_type": "code",
   "execution_count": 18,
   "metadata": {},
   "outputs": [
    {
     "name": "stdout",
     "output_type": "stream",
     "text": [
      "<class 'pandas.core.frame.DataFrame'>\n",
      "Int64Index: 4847 entries, 0 to 4999\n",
      "Data columns (total 4 columns):\n",
      " #   Column  Non-Null Count  Dtype  \n",
      "---  ------  --------------  -----  \n",
      " 0   0       4847 non-null   float64\n",
      " 1   1       4847 non-null   float64\n",
      " 2   2       4847 non-null   float64\n",
      " 3   3       4847 non-null   float64\n",
      "dtypes: float64(4)\n",
      "memory usage: 189.3 KB\n"
     ]
    }
   ],
   "source": [
    "matrix_checking.info()"
   ]
  },
  {
   "cell_type": "code",
   "execution_count": 19,
   "metadata": {},
   "outputs": [
    {
     "name": "stdout",
     "output_type": "stream",
     "text": [
      "<class 'pandas.core.frame.DataFrame'>\n",
      "Int64Index: 4847 entries, 0 to 4999\n",
      "Data columns (total 4 columns):\n",
      " #   Column       Non-Null Count  Dtype  \n",
      "---  ------       --------------  -----  \n",
      " 0   Пол          4847 non-null   int64  \n",
      " 1   Возраст      4847 non-null   float64\n",
      " 2   Зарплата     4847 non-null   float64\n",
      " 3   Члены семьи  4847 non-null   int64  \n",
      "dtypes: float64(2), int64(2)\n",
      "memory usage: 189.3 KB\n"
     ]
    }
   ],
   "source": [
    "features.info()"
   ]
  },
  {
   "cell_type": "code",
   "execution_count": 20,
   "metadata": {},
   "outputs": [],
   "source": [
    "# возвращаение исходных названий столбцов \n",
    "matrix_checking.columns = ['Пол', 'Возраст', 'Зарплата', 'Члены семьи']"
   ]
  },
  {
   "cell_type": "code",
   "execution_count": 21,
   "metadata": {},
   "outputs": [],
   "source": [
    "# избавляемся от погрешностей\n",
    "features = abs(features.round(1))\n",
    "matrix_checking = abs(matrix_checking.round(1))"
   ]
  },
  {
   "cell_type": "code",
   "execution_count": 22,
   "metadata": {},
   "outputs": [],
   "source": [
    "# приведение к единому типу данных\n",
    "features = features.astype(int)\n",
    "matrix_checking = matrix_checking.astype(int)"
   ]
  },
  {
   "cell_type": "code",
   "execution_count": 23,
   "metadata": {},
   "outputs": [],
   "source": [
    "# на всякий случай делаем переиндексацию (в ходе удаления дубликатов не делали)\n",
    "features.reset_index(drop= True, inplace=True)\n",
    "matrix_checking.reset_index(drop=True, inplace=True)"
   ]
  },
  {
   "cell_type": "code",
   "execution_count": 24,
   "metadata": {},
   "outputs": [
    {
     "data": {
      "text/html": [
       "<div>\n",
       "<style scoped>\n",
       "    .dataframe tbody tr th:only-of-type {\n",
       "        vertical-align: middle;\n",
       "    }\n",
       "\n",
       "    .dataframe tbody tr th {\n",
       "        vertical-align: top;\n",
       "    }\n",
       "\n",
       "    .dataframe thead th {\n",
       "        text-align: right;\n",
       "    }\n",
       "</style>\n",
       "<table border=\"1\" class=\"dataframe\">\n",
       "  <thead>\n",
       "    <tr style=\"text-align: right;\">\n",
       "      <th></th>\n",
       "      <th>Пол</th>\n",
       "      <th>Возраст</th>\n",
       "      <th>Зарплата</th>\n",
       "      <th>Члены семьи</th>\n",
       "    </tr>\n",
       "  </thead>\n",
       "  <tbody>\n",
       "    <tr>\n",
       "      <th>0</th>\n",
       "      <td>1</td>\n",
       "      <td>41</td>\n",
       "      <td>49600</td>\n",
       "      <td>1</td>\n",
       "    </tr>\n",
       "    <tr>\n",
       "      <th>1</th>\n",
       "      <td>0</td>\n",
       "      <td>46</td>\n",
       "      <td>38000</td>\n",
       "      <td>1</td>\n",
       "    </tr>\n",
       "    <tr>\n",
       "      <th>2</th>\n",
       "      <td>0</td>\n",
       "      <td>29</td>\n",
       "      <td>21000</td>\n",
       "      <td>0</td>\n",
       "    </tr>\n",
       "    <tr>\n",
       "      <th>3</th>\n",
       "      <td>0</td>\n",
       "      <td>21</td>\n",
       "      <td>41700</td>\n",
       "      <td>2</td>\n",
       "    </tr>\n",
       "    <tr>\n",
       "      <th>4</th>\n",
       "      <td>1</td>\n",
       "      <td>28</td>\n",
       "      <td>26100</td>\n",
       "      <td>0</td>\n",
       "    </tr>\n",
       "    <tr>\n",
       "      <th>...</th>\n",
       "      <td>...</td>\n",
       "      <td>...</td>\n",
       "      <td>...</td>\n",
       "      <td>...</td>\n",
       "    </tr>\n",
       "    <tr>\n",
       "      <th>4842</th>\n",
       "      <td>0</td>\n",
       "      <td>28</td>\n",
       "      <td>35700</td>\n",
       "      <td>2</td>\n",
       "    </tr>\n",
       "    <tr>\n",
       "      <th>4843</th>\n",
       "      <td>0</td>\n",
       "      <td>34</td>\n",
       "      <td>52400</td>\n",
       "      <td>1</td>\n",
       "    </tr>\n",
       "    <tr>\n",
       "      <th>4844</th>\n",
       "      <td>0</td>\n",
       "      <td>20</td>\n",
       "      <td>33900</td>\n",
       "      <td>2</td>\n",
       "    </tr>\n",
       "    <tr>\n",
       "      <th>4845</th>\n",
       "      <td>1</td>\n",
       "      <td>22</td>\n",
       "      <td>32700</td>\n",
       "      <td>3</td>\n",
       "    </tr>\n",
       "    <tr>\n",
       "      <th>4846</th>\n",
       "      <td>1</td>\n",
       "      <td>28</td>\n",
       "      <td>40600</td>\n",
       "      <td>1</td>\n",
       "    </tr>\n",
       "  </tbody>\n",
       "</table>\n",
       "<p>4847 rows × 4 columns</p>\n",
       "</div>"
      ],
      "text/plain": [
       "      Пол  Возраст  Зарплата  Члены семьи\n",
       "0       1       41     49600            1\n",
       "1       0       46     38000            1\n",
       "2       0       29     21000            0\n",
       "3       0       21     41700            2\n",
       "4       1       28     26100            0\n",
       "...   ...      ...       ...          ...\n",
       "4842    0       28     35700            2\n",
       "4843    0       34     52400            1\n",
       "4844    0       20     33900            2\n",
       "4845    1       22     32700            3\n",
       "4846    1       28     40600            1\n",
       "\n",
       "[4847 rows x 4 columns]"
      ]
     },
     "execution_count": 24,
     "metadata": {},
     "output_type": "execute_result"
    }
   ],
   "source": [
    "matrix_checking"
   ]
  },
  {
   "cell_type": "code",
   "execution_count": 25,
   "metadata": {},
   "outputs": [
    {
     "data": {
      "text/html": [
       "<div>\n",
       "<style scoped>\n",
       "    .dataframe tbody tr th:only-of-type {\n",
       "        vertical-align: middle;\n",
       "    }\n",
       "\n",
       "    .dataframe tbody tr th {\n",
       "        vertical-align: top;\n",
       "    }\n",
       "\n",
       "    .dataframe thead th {\n",
       "        text-align: right;\n",
       "    }\n",
       "</style>\n",
       "<table border=\"1\" class=\"dataframe\">\n",
       "  <thead>\n",
       "    <tr style=\"text-align: right;\">\n",
       "      <th></th>\n",
       "      <th>Пол</th>\n",
       "      <th>Возраст</th>\n",
       "      <th>Зарплата</th>\n",
       "      <th>Члены семьи</th>\n",
       "    </tr>\n",
       "  </thead>\n",
       "  <tbody>\n",
       "    <tr>\n",
       "      <th>0</th>\n",
       "      <td>1</td>\n",
       "      <td>41</td>\n",
       "      <td>49600</td>\n",
       "      <td>1</td>\n",
       "    </tr>\n",
       "    <tr>\n",
       "      <th>1</th>\n",
       "      <td>0</td>\n",
       "      <td>46</td>\n",
       "      <td>38000</td>\n",
       "      <td>1</td>\n",
       "    </tr>\n",
       "    <tr>\n",
       "      <th>2</th>\n",
       "      <td>0</td>\n",
       "      <td>29</td>\n",
       "      <td>21000</td>\n",
       "      <td>0</td>\n",
       "    </tr>\n",
       "    <tr>\n",
       "      <th>3</th>\n",
       "      <td>0</td>\n",
       "      <td>21</td>\n",
       "      <td>41700</td>\n",
       "      <td>2</td>\n",
       "    </tr>\n",
       "    <tr>\n",
       "      <th>4</th>\n",
       "      <td>1</td>\n",
       "      <td>28</td>\n",
       "      <td>26100</td>\n",
       "      <td>0</td>\n",
       "    </tr>\n",
       "    <tr>\n",
       "      <th>...</th>\n",
       "      <td>...</td>\n",
       "      <td>...</td>\n",
       "      <td>...</td>\n",
       "      <td>...</td>\n",
       "    </tr>\n",
       "    <tr>\n",
       "      <th>4842</th>\n",
       "      <td>0</td>\n",
       "      <td>28</td>\n",
       "      <td>35700</td>\n",
       "      <td>2</td>\n",
       "    </tr>\n",
       "    <tr>\n",
       "      <th>4843</th>\n",
       "      <td>0</td>\n",
       "      <td>34</td>\n",
       "      <td>52400</td>\n",
       "      <td>1</td>\n",
       "    </tr>\n",
       "    <tr>\n",
       "      <th>4844</th>\n",
       "      <td>0</td>\n",
       "      <td>20</td>\n",
       "      <td>33900</td>\n",
       "      <td>2</td>\n",
       "    </tr>\n",
       "    <tr>\n",
       "      <th>4845</th>\n",
       "      <td>1</td>\n",
       "      <td>22</td>\n",
       "      <td>32700</td>\n",
       "      <td>3</td>\n",
       "    </tr>\n",
       "    <tr>\n",
       "      <th>4846</th>\n",
       "      <td>1</td>\n",
       "      <td>28</td>\n",
       "      <td>40600</td>\n",
       "      <td>1</td>\n",
       "    </tr>\n",
       "  </tbody>\n",
       "</table>\n",
       "<p>4847 rows × 4 columns</p>\n",
       "</div>"
      ],
      "text/plain": [
       "      Пол  Возраст  Зарплата  Члены семьи\n",
       "0       1       41     49600            1\n",
       "1       0       46     38000            1\n",
       "2       0       29     21000            0\n",
       "3       0       21     41700            2\n",
       "4       1       28     26100            0\n",
       "...   ...      ...       ...          ...\n",
       "4842    0       28     35700            2\n",
       "4843    0       34     52400            1\n",
       "4844    0       20     33900            2\n",
       "4845    1       22     32700            3\n",
       "4846    1       28     40600            1\n",
       "\n",
       "[4847 rows x 4 columns]"
      ]
     },
     "execution_count": 25,
     "metadata": {},
     "output_type": "execute_result"
    }
   ],
   "source": [
    "features"
   ]
  },
  {
   "cell_type": "code",
   "execution_count": 26,
   "metadata": {},
   "outputs": [
    {
     "data": {
      "text/plain": [
       "True"
      ]
     },
     "execution_count": 26,
     "metadata": {},
     "output_type": "execute_result"
    }
   ],
   "source": [
    "features.equals(matrix_checking)"
   ]
  },
  {
   "cell_type": "markdown",
   "metadata": {},
   "source": [
    "## Чек-лист проверки"
   ]
  },
  {
   "cell_type": "markdown",
   "metadata": {},
   "source": [
    "Поставьте 'x' в выполненных пунктах. Далее нажмите Shift+Enter."
   ]
  },
  {
   "cell_type": "markdown",
   "metadata": {},
   "source": [
    "- [x]  Jupyter Notebook открыт\n",
    "- [x]  Весь код выполняется без ошибок\n",
    "- [x]  Ячейки с кодом расположены в порядке исполнения\n",
    "- [x]  Выполнен шаг 1: данные загружены\n",
    "- [x]  Выполнен шаг 2: получен ответ на вопрос об умножении матриц\n",
    "    - [x]  Указан правильный вариант ответа\n",
    "    - [x]  Вариант обоснован\n",
    "- [x]  Выполнен шаг 3: предложен алгоритм преобразования\n",
    "    - [x]  Алгоритм описан\n",
    "    - [x]  Алгоритм обоснован\n",
    "- [x]  Выполнен шаг 4: алгоритм проверен\n",
    "    - [x]  Алгоритм реализован\n",
    "    - [x]  Проведено сравнение качества моделей до и после преобразования"
   ]
  }
 ],
 "metadata": {
  "ExecuteTimeLog": [
   {
    "duration": 403,
    "start_time": "2023-06-15T08:02:55.542Z"
   },
   {
    "duration": 87,
    "start_time": "2023-06-15T08:02:56.567Z"
   },
   {
    "duration": 18,
    "start_time": "2023-06-15T08:03:14.002Z"
   },
   {
    "duration": 12,
    "start_time": "2023-06-15T08:03:18.023Z"
   },
   {
    "duration": 12,
    "start_time": "2023-06-15T08:03:37.594Z"
   },
   {
    "duration": 26,
    "start_time": "2023-06-15T08:03:53.297Z"
   },
   {
    "duration": 1047,
    "start_time": "2023-06-15T08:11:31.688Z"
   },
   {
    "duration": 99,
    "start_time": "2023-06-15T08:11:42.710Z"
   },
   {
    "duration": 3,
    "start_time": "2023-06-15T08:12:01.412Z"
   },
   {
    "duration": 473,
    "start_time": "2023-06-15T08:12:07.694Z"
   },
   {
    "duration": 407,
    "start_time": "2023-06-15T08:12:18.110Z"
   },
   {
    "duration": 417,
    "start_time": "2023-06-15T08:12:36.421Z"
   },
   {
    "duration": 415,
    "start_time": "2023-06-15T08:12:43.517Z"
   },
   {
    "duration": 1687,
    "start_time": "2023-06-15T19:18:43.218Z"
   },
   {
    "duration": 105,
    "start_time": "2023-06-15T19:18:44.915Z"
   },
   {
    "duration": 21,
    "start_time": "2023-06-15T19:18:45.022Z"
   },
   {
    "duration": 20,
    "start_time": "2023-06-15T19:18:45.044Z"
   },
   {
    "duration": 28,
    "start_time": "2023-06-15T19:18:45.067Z"
   },
   {
    "duration": 498,
    "start_time": "2023-06-15T19:18:45.096Z"
   },
   {
    "duration": 140,
    "start_time": "2023-06-15T19:18:45.601Z"
   },
   {
    "duration": 23,
    "start_time": "2023-06-15T19:18:51.110Z"
   },
   {
    "duration": 12,
    "start_time": "2023-06-15T19:19:28.602Z"
   },
   {
    "duration": 7,
    "start_time": "2023-06-15T19:19:48.319Z"
   },
   {
    "duration": 14,
    "start_time": "2023-06-15T19:21:38.019Z"
   },
   {
    "duration": 6,
    "start_time": "2023-06-15T19:21:54.317Z"
   },
   {
    "duration": 5,
    "start_time": "2023-06-15T19:23:12.427Z"
   },
   {
    "duration": 11,
    "start_time": "2023-06-15T19:23:21.844Z"
   },
   {
    "duration": 11,
    "start_time": "2023-06-15T19:26:41.988Z"
   },
   {
    "duration": 388,
    "start_time": "2023-06-15T19:27:50.836Z"
   },
   {
    "duration": 47,
    "start_time": "2023-06-16T14:45:55.422Z"
   },
   {
    "duration": 1368,
    "start_time": "2023-06-16T14:46:01.741Z"
   },
   {
    "duration": 80,
    "start_time": "2023-06-16T14:46:03.112Z"
   },
   {
    "duration": 17,
    "start_time": "2023-06-16T14:46:03.194Z"
   },
   {
    "duration": 13,
    "start_time": "2023-06-16T14:46:03.213Z"
   },
   {
    "duration": 40,
    "start_time": "2023-06-16T14:46:03.228Z"
   },
   {
    "duration": 23,
    "start_time": "2023-06-16T14:46:03.269Z"
   },
   {
    "duration": 14,
    "start_time": "2023-06-16T14:46:03.294Z"
   },
   {
    "duration": 9,
    "start_time": "2023-06-16T14:46:03.309Z"
   },
   {
    "duration": 20,
    "start_time": "2023-06-16T14:46:03.320Z"
   },
   {
    "duration": 469,
    "start_time": "2023-06-16T14:46:03.342Z"
   },
   {
    "duration": 1173,
    "start_time": "2023-06-16T14:46:03.813Z"
   },
   {
    "duration": 3,
    "start_time": "2023-06-16T14:46:44.968Z"
   },
   {
    "duration": 6,
    "start_time": "2023-06-16T14:46:52.448Z"
   },
   {
    "duration": 5,
    "start_time": "2023-06-16T14:46:56.603Z"
   },
   {
    "duration": 4,
    "start_time": "2023-06-16T14:46:58.809Z"
   },
   {
    "duration": 4,
    "start_time": "2023-06-16T14:49:58.692Z"
   },
   {
    "duration": 82,
    "start_time": "2023-06-16T14:52:12.624Z"
   },
   {
    "duration": 5,
    "start_time": "2023-06-16T14:53:32.146Z"
   },
   {
    "duration": 3,
    "start_time": "2023-06-16T14:53:33.082Z"
   },
   {
    "duration": 5,
    "start_time": "2023-06-16T14:59:52.891Z"
   },
   {
    "duration": 498,
    "start_time": "2023-06-16T15:00:34.060Z"
   },
   {
    "duration": 12,
    "start_time": "2023-06-16T15:04:55.073Z"
   },
   {
    "duration": 211,
    "start_time": "2023-06-16T15:08:20.063Z"
   },
   {
    "duration": 4,
    "start_time": "2023-06-16T15:10:17.889Z"
   },
   {
    "duration": 5,
    "start_time": "2023-06-16T15:10:19.312Z"
   },
   {
    "duration": 86,
    "start_time": "2023-06-16T15:10:20.294Z"
   },
   {
    "duration": 21,
    "start_time": "2023-06-16T15:14:19.125Z"
   },
   {
    "duration": 12,
    "start_time": "2023-06-16T15:14:40.697Z"
   },
   {
    "duration": 4,
    "start_time": "2023-06-16T15:15:09.810Z"
   },
   {
    "duration": 74,
    "start_time": "2023-06-16T15:15:58.356Z"
   },
   {
    "duration": 4,
    "start_time": "2023-06-16T15:31:30.256Z"
   },
   {
    "duration": 74,
    "start_time": "2023-06-16T15:31:30.262Z"
   },
   {
    "duration": 27,
    "start_time": "2023-06-16T15:31:30.338Z"
   },
   {
    "duration": 70,
    "start_time": "2023-06-16T15:31:30.366Z"
   },
   {
    "duration": 70,
    "start_time": "2023-06-16T15:31:30.439Z"
   },
   {
    "duration": 27,
    "start_time": "2023-06-16T15:31:30.511Z"
   },
   {
    "duration": 80,
    "start_time": "2023-06-16T15:31:30.540Z"
   },
   {
    "duration": 126,
    "start_time": "2023-06-16T15:31:30.622Z"
   },
   {
    "duration": 91,
    "start_time": "2023-06-16T15:31:30.750Z"
   },
   {
    "duration": 556,
    "start_time": "2023-06-16T15:31:30.843Z"
   },
   {
    "duration": 4,
    "start_time": "2023-06-16T15:31:31.401Z"
   },
   {
    "duration": 31,
    "start_time": "2023-06-16T15:31:31.407Z"
   },
   {
    "duration": 61,
    "start_time": "2023-06-16T15:31:31.440Z"
   },
   {
    "duration": 178,
    "start_time": "2023-06-16T15:31:31.503Z"
   },
   {
    "duration": 180,
    "start_time": "2023-06-16T15:31:31.683Z"
   },
   {
    "duration": 150,
    "start_time": "2023-06-16T15:31:31.865Z"
   },
   {
    "duration": 2572,
    "start_time": "2023-06-16T16:42:19.987Z"
   },
   {
    "duration": 33,
    "start_time": "2023-06-16T16:42:22.561Z"
   },
   {
    "duration": 15,
    "start_time": "2023-06-16T16:42:22.596Z"
   },
   {
    "duration": 11,
    "start_time": "2023-06-16T16:42:22.613Z"
   },
   {
    "duration": 35,
    "start_time": "2023-06-16T16:42:22.625Z"
   },
   {
    "duration": 28,
    "start_time": "2023-06-16T16:42:22.662Z"
   },
   {
    "duration": 6,
    "start_time": "2023-06-16T16:42:22.692Z"
   },
   {
    "duration": 20,
    "start_time": "2023-06-16T16:42:22.699Z"
   },
   {
    "duration": 19,
    "start_time": "2023-06-16T16:42:22.721Z"
   },
   {
    "duration": 496,
    "start_time": "2023-06-16T16:42:22.742Z"
   },
   {
    "duration": 3,
    "start_time": "2023-06-16T16:42:23.240Z"
   },
   {
    "duration": 20,
    "start_time": "2023-06-16T16:42:23.245Z"
   },
   {
    "duration": 7,
    "start_time": "2023-06-16T16:42:23.267Z"
   },
   {
    "duration": 90,
    "start_time": "2023-06-16T16:42:23.283Z"
   },
   {
    "duration": 195,
    "start_time": "2023-06-16T16:42:23.376Z"
   },
   {
    "duration": 7,
    "start_time": "2023-06-16T16:42:23.579Z"
   },
   {
    "duration": 2157,
    "start_time": "2023-06-16T16:49:59.796Z"
   },
   {
    "duration": 30,
    "start_time": "2023-06-16T16:50:01.955Z"
   },
   {
    "duration": 21,
    "start_time": "2023-06-16T16:50:01.987Z"
   },
   {
    "duration": 27,
    "start_time": "2023-06-16T16:50:02.010Z"
   },
   {
    "duration": 48,
    "start_time": "2023-06-16T16:50:02.039Z"
   },
   {
    "duration": 14,
    "start_time": "2023-06-16T16:50:02.088Z"
   },
   {
    "duration": 19,
    "start_time": "2023-06-16T16:50:02.103Z"
   },
   {
    "duration": 43,
    "start_time": "2023-06-16T16:50:02.123Z"
   },
   {
    "duration": 31,
    "start_time": "2023-06-16T16:50:02.168Z"
   },
   {
    "duration": 468,
    "start_time": "2023-06-16T16:50:02.202Z"
   },
   {
    "duration": 5,
    "start_time": "2023-06-16T16:50:02.673Z"
   },
   {
    "duration": 11,
    "start_time": "2023-06-16T16:50:02.680Z"
   },
   {
    "duration": 17,
    "start_time": "2023-06-16T16:50:02.692Z"
   },
   {
    "duration": 63,
    "start_time": "2023-06-16T16:50:02.711Z"
   },
   {
    "duration": 105,
    "start_time": "2023-06-16T16:50:02.777Z"
   },
   {
    "duration": 90,
    "start_time": "2023-06-16T16:50:02.884Z"
   },
   {
    "duration": 65,
    "start_time": "2023-06-17T13:10:00.255Z"
   },
   {
    "duration": 49,
    "start_time": "2023-06-17T13:10:10.085Z"
   },
   {
    "duration": 1567,
    "start_time": "2023-06-17T13:10:15.210Z"
   },
   {
    "duration": 95,
    "start_time": "2023-06-17T13:10:16.780Z"
   },
   {
    "duration": 15,
    "start_time": "2023-06-17T13:10:16.876Z"
   },
   {
    "duration": 28,
    "start_time": "2023-06-17T13:10:16.892Z"
   },
   {
    "duration": 27,
    "start_time": "2023-06-17T13:10:16.922Z"
   },
   {
    "duration": 17,
    "start_time": "2023-06-17T13:10:16.951Z"
   },
   {
    "duration": 5,
    "start_time": "2023-06-17T13:10:16.969Z"
   },
   {
    "duration": 13,
    "start_time": "2023-06-17T13:10:16.976Z"
   },
   {
    "duration": 13,
    "start_time": "2023-06-17T13:10:16.991Z"
   },
   {
    "duration": 3,
    "start_time": "2023-06-17T13:10:17.005Z"
   },
   {
    "duration": 8,
    "start_time": "2023-06-17T13:10:17.009Z"
   },
   {
    "duration": 9,
    "start_time": "2023-06-17T13:10:17.018Z"
   },
   {
    "duration": 146,
    "start_time": "2023-06-17T13:10:17.028Z"
   },
   {
    "duration": 0,
    "start_time": "2023-06-17T13:10:17.175Z"
   },
   {
    "duration": 0,
    "start_time": "2023-06-17T13:10:17.176Z"
   },
   {
    "duration": 0,
    "start_time": "2023-06-17T13:10:17.177Z"
   },
   {
    "duration": 0,
    "start_time": "2023-06-17T13:10:17.179Z"
   },
   {
    "duration": 297,
    "start_time": "2023-06-17T13:12:45.346Z"
   },
   {
    "duration": 5,
    "start_time": "2023-06-17T13:13:25.020Z"
   },
   {
    "duration": 5,
    "start_time": "2023-06-17T13:13:27.063Z"
   },
   {
    "duration": 5,
    "start_time": "2023-06-17T13:13:28.725Z"
   },
   {
    "duration": 5,
    "start_time": "2023-06-17T13:19:13.646Z"
   },
   {
    "duration": 5,
    "start_time": "2023-06-17T13:19:15.925Z"
   },
   {
    "duration": 4,
    "start_time": "2023-06-17T13:19:21.958Z"
   },
   {
    "duration": 5,
    "start_time": "2023-06-17T13:19:48.475Z"
   },
   {
    "duration": 12,
    "start_time": "2023-06-17T14:28:30.320Z"
   },
   {
    "duration": 2,
    "start_time": "2023-06-17T14:28:41.940Z"
   },
   {
    "duration": 49,
    "start_time": "2023-06-17T14:28:41.944Z"
   },
   {
    "duration": 24,
    "start_time": "2023-06-17T14:28:41.995Z"
   },
   {
    "duration": 23,
    "start_time": "2023-06-17T14:28:42.021Z"
   },
   {
    "duration": 30,
    "start_time": "2023-06-17T14:28:42.046Z"
   },
   {
    "duration": 11,
    "start_time": "2023-06-17T14:28:42.078Z"
   },
   {
    "duration": 5,
    "start_time": "2023-06-17T14:28:42.091Z"
   },
   {
    "duration": 21,
    "start_time": "2023-06-17T14:28:42.097Z"
   },
   {
    "duration": 12,
    "start_time": "2023-06-17T14:28:42.120Z"
   },
   {
    "duration": 2,
    "start_time": "2023-06-17T14:28:42.135Z"
   },
   {
    "duration": 11,
    "start_time": "2023-06-17T14:28:42.139Z"
   },
   {
    "duration": 10,
    "start_time": "2023-06-17T14:28:42.152Z"
   },
   {
    "duration": 13,
    "start_time": "2023-06-17T14:28:42.163Z"
   },
   {
    "duration": 48,
    "start_time": "2023-06-17T14:28:42.177Z"
   },
   {
    "duration": 179,
    "start_time": "2023-06-17T14:28:42.227Z"
   },
   {
    "duration": 108,
    "start_time": "2023-06-17T14:28:42.408Z"
   },
   {
    "duration": 30,
    "start_time": "2023-06-17T14:28:42.518Z"
   },
   {
    "duration": 5,
    "start_time": "2023-06-17T14:41:06.057Z"
   },
   {
    "duration": 8,
    "start_time": "2023-06-17T14:41:36.943Z"
   },
   {
    "duration": 4,
    "start_time": "2023-06-17T14:42:00.289Z"
   },
   {
    "duration": 9,
    "start_time": "2023-06-17T14:42:22.434Z"
   },
   {
    "duration": 13,
    "start_time": "2023-06-17T14:43:23.669Z"
   },
   {
    "duration": 4,
    "start_time": "2023-06-17T14:44:01.666Z"
   },
   {
    "duration": 4,
    "start_time": "2023-06-17T14:44:03.230Z"
   },
   {
    "duration": 3,
    "start_time": "2023-06-17T14:47:03.392Z"
   },
   {
    "duration": 1391,
    "start_time": "2023-06-17T14:47:35.633Z"
   },
   {
    "duration": 30,
    "start_time": "2023-06-17T14:47:37.027Z"
   },
   {
    "duration": 18,
    "start_time": "2023-06-17T14:47:37.059Z"
   },
   {
    "duration": 12,
    "start_time": "2023-06-17T14:47:37.079Z"
   },
   {
    "duration": 35,
    "start_time": "2023-06-17T14:47:37.094Z"
   },
   {
    "duration": 13,
    "start_time": "2023-06-17T14:47:37.131Z"
   },
   {
    "duration": 11,
    "start_time": "2023-06-17T14:47:37.146Z"
   },
   {
    "duration": 12,
    "start_time": "2023-06-17T14:47:37.158Z"
   },
   {
    "duration": 53,
    "start_time": "2023-06-17T14:47:37.171Z"
   },
   {
    "duration": 5,
    "start_time": "2023-06-17T14:47:37.226Z"
   },
   {
    "duration": 21,
    "start_time": "2023-06-17T14:47:37.233Z"
   },
   {
    "duration": 13,
    "start_time": "2023-06-17T14:47:37.256Z"
   },
   {
    "duration": 4,
    "start_time": "2023-06-17T14:47:37.271Z"
   },
   {
    "duration": 32,
    "start_time": "2023-06-17T14:47:37.279Z"
   },
   {
    "duration": 194,
    "start_time": "2023-06-17T14:47:37.313Z"
   },
   {
    "duration": 117,
    "start_time": "2023-06-17T14:47:37.508Z"
   },
   {
    "duration": 19,
    "start_time": "2023-06-17T14:47:37.626Z"
   },
   {
    "duration": 59,
    "start_time": "2023-06-17T14:47:37.647Z"
   },
   {
    "duration": 104,
    "start_time": "2023-06-17T14:47:37.709Z"
   },
   {
    "duration": 13,
    "start_time": "2023-06-17T14:47:37.815Z"
   },
   {
    "duration": 11,
    "start_time": "2023-06-17T14:47:37.830Z"
   },
   {
    "duration": 4,
    "start_time": "2023-06-17T15:00:52.353Z"
   },
   {
    "duration": 9,
    "start_time": "2023-06-17T15:00:55.619Z"
   },
   {
    "duration": 14,
    "start_time": "2023-06-17T15:01:00.159Z"
   },
   {
    "duration": 4,
    "start_time": "2023-06-17T15:01:12.621Z"
   },
   {
    "duration": 44,
    "start_time": "2023-06-17T15:01:12.628Z"
   },
   {
    "duration": 12,
    "start_time": "2023-06-17T15:01:12.674Z"
   },
   {
    "duration": 19,
    "start_time": "2023-06-17T15:01:12.688Z"
   },
   {
    "duration": 33,
    "start_time": "2023-06-17T15:01:12.717Z"
   },
   {
    "duration": 18,
    "start_time": "2023-06-17T15:01:12.752Z"
   },
   {
    "duration": 12,
    "start_time": "2023-06-17T15:01:12.772Z"
   },
   {
    "duration": 48,
    "start_time": "2023-06-17T15:01:12.786Z"
   },
   {
    "duration": 40,
    "start_time": "2023-06-17T15:01:12.836Z"
   },
   {
    "duration": 4,
    "start_time": "2023-06-17T15:01:12.878Z"
   },
   {
    "duration": 43,
    "start_time": "2023-06-17T15:01:12.884Z"
   },
   {
    "duration": 35,
    "start_time": "2023-06-17T15:01:12.930Z"
   },
   {
    "duration": 23,
    "start_time": "2023-06-17T15:01:12.968Z"
   },
   {
    "duration": 77,
    "start_time": "2023-06-17T15:01:12.995Z"
   },
   {
    "duration": 144,
    "start_time": "2023-06-17T15:01:13.101Z"
   },
   {
    "duration": 163,
    "start_time": "2023-06-17T15:01:13.250Z"
   },
   {
    "duration": 36,
    "start_time": "2023-06-17T15:01:13.415Z"
   },
   {
    "duration": 178,
    "start_time": "2023-06-17T15:01:13.453Z"
   },
   {
    "duration": 12,
    "start_time": "2023-06-17T15:01:13.633Z"
   },
   {
    "duration": 13,
    "start_time": "2023-06-17T15:01:13.647Z"
   },
   {
    "duration": 16,
    "start_time": "2023-06-17T15:01:13.662Z"
   },
   {
    "duration": 7,
    "start_time": "2023-06-17T15:01:13.680Z"
   },
   {
    "duration": 10,
    "start_time": "2023-06-17T15:01:18.623Z"
   },
   {
    "duration": 12,
    "start_time": "2023-06-17T15:01:20.430Z"
   },
   {
    "duration": 3,
    "start_time": "2023-06-17T15:02:33.240Z"
   },
   {
    "duration": 10,
    "start_time": "2023-06-17T15:02:36.677Z"
   },
   {
    "duration": 4,
    "start_time": "2023-06-17T15:03:33.846Z"
   },
   {
    "duration": 1257,
    "start_time": "2023-06-17T15:05:10.923Z"
   },
   {
    "duration": 6,
    "start_time": "2023-06-17T15:05:35.580Z"
   },
   {
    "duration": 5,
    "start_time": "2023-06-17T15:06:32.268Z"
   },
   {
    "duration": 4,
    "start_time": "2023-06-17T15:06:38.083Z"
   },
   {
    "duration": 26,
    "start_time": "2023-06-17T15:07:15.791Z"
   },
   {
    "duration": 3,
    "start_time": "2023-06-17T15:07:29.289Z"
   },
   {
    "duration": 11,
    "start_time": "2023-06-17T15:07:30.235Z"
   },
   {
    "duration": 4,
    "start_time": "2023-06-17T15:08:33.824Z"
   },
   {
    "duration": 11,
    "start_time": "2023-06-17T15:08:34.477Z"
   },
   {
    "duration": 3,
    "start_time": "2023-06-17T15:08:36.644Z"
   },
   {
    "duration": 1035,
    "start_time": "2023-06-17T15:09:06.433Z"
   },
   {
    "duration": 0,
    "start_time": "2023-06-17T15:09:07.470Z"
   },
   {
    "duration": 92,
    "start_time": "2023-06-17T15:09:18.159Z"
   },
   {
    "duration": 1205,
    "start_time": "2023-06-17T15:09:26.939Z"
   },
   {
    "duration": 4,
    "start_time": "2023-06-17T15:09:58.842Z"
   },
   {
    "duration": 12,
    "start_time": "2023-06-17T15:10:00.025Z"
   },
   {
    "duration": 3,
    "start_time": "2023-06-17T15:10:00.575Z"
   },
   {
    "duration": 11,
    "start_time": "2023-06-17T15:10:26.424Z"
   },
   {
    "duration": 3,
    "start_time": "2023-06-17T15:12:07.022Z"
   },
   {
    "duration": 41,
    "start_time": "2023-06-17T15:12:07.027Z"
   },
   {
    "duration": 9,
    "start_time": "2023-06-17T15:12:07.070Z"
   },
   {
    "duration": 49,
    "start_time": "2023-06-17T15:12:07.081Z"
   },
   {
    "duration": 35,
    "start_time": "2023-06-17T15:12:07.132Z"
   },
   {
    "duration": 17,
    "start_time": "2023-06-17T15:12:07.168Z"
   },
   {
    "duration": 40,
    "start_time": "2023-06-17T15:12:07.186Z"
   },
   {
    "duration": 7,
    "start_time": "2023-06-17T15:12:07.228Z"
   },
   {
    "duration": 23,
    "start_time": "2023-06-17T15:12:07.236Z"
   },
   {
    "duration": 10,
    "start_time": "2023-06-17T15:12:07.260Z"
   },
   {
    "duration": 18,
    "start_time": "2023-06-17T15:12:07.271Z"
   },
   {
    "duration": 38,
    "start_time": "2023-06-17T15:12:07.290Z"
   },
   {
    "duration": 5,
    "start_time": "2023-06-17T15:12:07.330Z"
   },
   {
    "duration": 22,
    "start_time": "2023-06-17T15:12:07.338Z"
   },
   {
    "duration": 156,
    "start_time": "2023-06-17T15:12:07.361Z"
   },
   {
    "duration": 84,
    "start_time": "2023-06-17T15:12:07.518Z"
   },
   {
    "duration": 31,
    "start_time": "2023-06-17T15:12:07.606Z"
   },
   {
    "duration": 71,
    "start_time": "2023-06-17T15:12:07.638Z"
   },
   {
    "duration": 98,
    "start_time": "2023-06-17T15:12:07.710Z"
   },
   {
    "duration": 40,
    "start_time": "2023-06-17T15:12:07.809Z"
   },
   {
    "duration": 0,
    "start_time": "2023-06-17T15:12:07.850Z"
   },
   {
    "duration": 0,
    "start_time": "2023-06-17T15:12:07.851Z"
   },
   {
    "duration": 0,
    "start_time": "2023-06-17T15:12:07.852Z"
   },
   {
    "duration": 0,
    "start_time": "2023-06-17T15:12:07.852Z"
   },
   {
    "duration": 0,
    "start_time": "2023-06-17T15:12:07.853Z"
   },
   {
    "duration": 5,
    "start_time": "2023-06-17T15:12:46.822Z"
   },
   {
    "duration": 2,
    "start_time": "2023-06-17T15:12:48.886Z"
   },
   {
    "duration": 4,
    "start_time": "2023-06-17T15:12:49.322Z"
   },
   {
    "duration": 9,
    "start_time": "2023-06-17T15:12:50.225Z"
   },
   {
    "duration": 8,
    "start_time": "2023-06-17T15:12:50.822Z"
   },
   {
    "duration": 3,
    "start_time": "2023-06-17T15:12:52.289Z"
   },
   {
    "duration": 5,
    "start_time": "2023-06-17T15:13:24.323Z"
   },
   {
    "duration": 8,
    "start_time": "2023-06-17T15:13:24.845Z"
   },
   {
    "duration": 10,
    "start_time": "2023-06-17T15:13:25.726Z"
   },
   {
    "duration": 4,
    "start_time": "2023-06-17T15:14:05.467Z"
   },
   {
    "duration": 3,
    "start_time": "2023-06-17T15:14:11.837Z"
   },
   {
    "duration": 46,
    "start_time": "2023-06-17T15:14:11.842Z"
   },
   {
    "duration": 15,
    "start_time": "2023-06-17T15:14:11.889Z"
   },
   {
    "duration": 18,
    "start_time": "2023-06-17T15:14:11.917Z"
   },
   {
    "duration": 17,
    "start_time": "2023-06-17T15:14:11.937Z"
   },
   {
    "duration": 17,
    "start_time": "2023-06-17T15:14:11.955Z"
   },
   {
    "duration": 6,
    "start_time": "2023-06-17T15:14:11.973Z"
   },
   {
    "duration": 5,
    "start_time": "2023-06-17T15:14:11.980Z"
   },
   {
    "duration": 9,
    "start_time": "2023-06-17T15:14:11.986Z"
   },
   {
    "duration": 35,
    "start_time": "2023-06-17T15:14:11.997Z"
   },
   {
    "duration": 14,
    "start_time": "2023-06-17T15:14:12.034Z"
   },
   {
    "duration": 20,
    "start_time": "2023-06-17T15:14:12.049Z"
   },
   {
    "duration": 17,
    "start_time": "2023-06-17T15:14:12.070Z"
   },
   {
    "duration": 33,
    "start_time": "2023-06-17T15:14:12.088Z"
   },
   {
    "duration": 90,
    "start_time": "2023-06-17T15:14:12.123Z"
   },
   {
    "duration": 124,
    "start_time": "2023-06-17T15:14:12.214Z"
   },
   {
    "duration": 66,
    "start_time": "2023-06-17T15:14:12.340Z"
   },
   {
    "duration": 17,
    "start_time": "2023-06-17T15:14:12.407Z"
   },
   {
    "duration": 87,
    "start_time": "2023-06-17T15:14:12.426Z"
   },
   {
    "duration": 38,
    "start_time": "2023-06-17T15:14:12.514Z"
   },
   {
    "duration": 0,
    "start_time": "2023-06-17T15:14:12.554Z"
   },
   {
    "duration": 0,
    "start_time": "2023-06-17T15:14:12.555Z"
   },
   {
    "duration": 0,
    "start_time": "2023-06-17T15:14:12.556Z"
   },
   {
    "duration": 0,
    "start_time": "2023-06-17T15:14:12.557Z"
   },
   {
    "duration": 0,
    "start_time": "2023-06-17T15:14:12.558Z"
   },
   {
    "duration": 3,
    "start_time": "2023-06-17T15:14:55.688Z"
   },
   {
    "duration": 86,
    "start_time": "2023-06-17T15:14:55.694Z"
   },
   {
    "duration": 10,
    "start_time": "2023-06-17T15:14:55.782Z"
   },
   {
    "duration": 53,
    "start_time": "2023-06-17T15:14:55.794Z"
   },
   {
    "duration": 39,
    "start_time": "2023-06-17T15:14:55.848Z"
   },
   {
    "duration": 35,
    "start_time": "2023-06-17T15:14:55.889Z"
   },
   {
    "duration": 7,
    "start_time": "2023-06-17T15:14:55.942Z"
   },
   {
    "duration": 9,
    "start_time": "2023-06-17T15:14:55.950Z"
   },
   {
    "duration": 32,
    "start_time": "2023-06-17T15:14:55.961Z"
   },
   {
    "duration": 58,
    "start_time": "2023-06-17T15:14:55.994Z"
   },
   {
    "duration": 28,
    "start_time": "2023-06-17T15:14:56.053Z"
   },
   {
    "duration": 103,
    "start_time": "2023-06-17T15:14:56.083Z"
   },
   {
    "duration": 73,
    "start_time": "2023-06-17T15:14:56.188Z"
   },
   {
    "duration": 35,
    "start_time": "2023-06-17T15:14:56.263Z"
   },
   {
    "duration": 158,
    "start_time": "2023-06-17T15:14:56.306Z"
   },
   {
    "duration": 195,
    "start_time": "2023-06-17T15:14:56.466Z"
   },
   {
    "duration": 25,
    "start_time": "2023-06-17T15:14:56.662Z"
   },
   {
    "duration": 160,
    "start_time": "2023-06-17T15:14:56.689Z"
   },
   {
    "duration": 44,
    "start_time": "2023-06-17T15:14:56.850Z"
   },
   {
    "duration": 40,
    "start_time": "2023-06-17T15:14:56.896Z"
   },
   {
    "duration": 18,
    "start_time": "2023-06-17T15:14:56.938Z"
   },
   {
    "duration": 14,
    "start_time": "2023-06-17T15:14:56.958Z"
   },
   {
    "duration": 98,
    "start_time": "2023-06-17T15:14:56.974Z"
   },
   {
    "duration": 42,
    "start_time": "2023-06-17T15:14:57.078Z"
   },
   {
    "duration": 44,
    "start_time": "2023-06-17T15:14:57.122Z"
   },
   {
    "duration": 5,
    "start_time": "2023-06-17T15:15:39.949Z"
   },
   {
    "duration": 12,
    "start_time": "2023-06-17T15:15:42.086Z"
   },
   {
    "duration": 14,
    "start_time": "2023-06-17T15:15:44.323Z"
   },
   {
    "duration": 6,
    "start_time": "2023-06-17T15:15:45.882Z"
   },
   {
    "duration": 5,
    "start_time": "2023-06-17T15:15:49.032Z"
   },
   {
    "duration": 132,
    "start_time": "2023-06-17T15:15:49.040Z"
   },
   {
    "duration": 9,
    "start_time": "2023-06-17T15:15:49.173Z"
   },
   {
    "duration": 69,
    "start_time": "2023-06-17T15:15:49.183Z"
   },
   {
    "duration": 75,
    "start_time": "2023-06-17T15:15:49.254Z"
   },
   {
    "duration": 29,
    "start_time": "2023-06-17T15:15:49.331Z"
   },
   {
    "duration": 19,
    "start_time": "2023-06-17T15:15:49.362Z"
   },
   {
    "duration": 44,
    "start_time": "2023-06-17T15:15:49.383Z"
   },
   {
    "duration": 42,
    "start_time": "2023-06-17T15:15:49.429Z"
   },
   {
    "duration": 77,
    "start_time": "2023-06-17T15:15:49.472Z"
   },
   {
    "duration": 94,
    "start_time": "2023-06-17T15:15:49.550Z"
   },
   {
    "duration": 37,
    "start_time": "2023-06-17T15:15:49.645Z"
   },
   {
    "duration": 55,
    "start_time": "2023-06-17T15:15:49.684Z"
   },
   {
    "duration": 68,
    "start_time": "2023-06-17T15:15:49.741Z"
   },
   {
    "duration": 110,
    "start_time": "2023-06-17T15:15:49.811Z"
   },
   {
    "duration": 130,
    "start_time": "2023-06-17T15:15:49.926Z"
   },
   {
    "duration": 100,
    "start_time": "2023-06-17T15:15:50.057Z"
   },
   {
    "duration": 202,
    "start_time": "2023-06-17T15:15:50.158Z"
   },
   {
    "duration": 60,
    "start_time": "2023-06-17T15:15:50.361Z"
   },
   {
    "duration": 36,
    "start_time": "2023-06-17T15:15:50.422Z"
   },
   {
    "duration": 81,
    "start_time": "2023-06-17T15:15:50.459Z"
   },
   {
    "duration": 26,
    "start_time": "2023-06-17T15:15:50.542Z"
   },
   {
    "duration": 25,
    "start_time": "2023-06-17T15:15:50.570Z"
   },
   {
    "duration": 59,
    "start_time": "2023-06-17T15:15:50.597Z"
   },
   {
    "duration": 22,
    "start_time": "2023-06-17T15:15:50.658Z"
   },
   {
    "duration": 7,
    "start_time": "2023-06-17T15:16:13.526Z"
   },
   {
    "duration": 8,
    "start_time": "2023-06-17T15:16:16.060Z"
   },
   {
    "duration": 2,
    "start_time": "2023-06-17T15:16:39.170Z"
   },
   {
    "duration": 57,
    "start_time": "2023-06-17T15:16:39.174Z"
   },
   {
    "duration": 10,
    "start_time": "2023-06-17T15:16:39.234Z"
   },
   {
    "duration": 14,
    "start_time": "2023-06-17T15:16:39.245Z"
   },
   {
    "duration": 29,
    "start_time": "2023-06-17T15:16:39.261Z"
   },
   {
    "duration": 32,
    "start_time": "2023-06-17T15:16:39.292Z"
   },
   {
    "duration": 26,
    "start_time": "2023-06-17T15:16:39.329Z"
   },
   {
    "duration": 6,
    "start_time": "2023-06-17T15:16:39.357Z"
   },
   {
    "duration": 23,
    "start_time": "2023-06-17T15:16:39.365Z"
   },
   {
    "duration": 6,
    "start_time": "2023-06-17T15:16:39.390Z"
   },
   {
    "duration": 42,
    "start_time": "2023-06-17T15:16:39.398Z"
   },
   {
    "duration": 18,
    "start_time": "2023-06-17T15:16:39.442Z"
   },
   {
    "duration": 18,
    "start_time": "2023-06-17T15:16:39.461Z"
   },
   {
    "duration": 62,
    "start_time": "2023-06-17T15:16:39.483Z"
   },
   {
    "duration": 151,
    "start_time": "2023-06-17T15:16:39.599Z"
   },
   {
    "duration": 158,
    "start_time": "2023-06-17T15:16:39.755Z"
   },
   {
    "duration": 32,
    "start_time": "2023-06-17T15:16:39.914Z"
   },
   {
    "duration": 66,
    "start_time": "2023-06-17T15:16:39.947Z"
   },
   {
    "duration": 97,
    "start_time": "2023-06-17T15:16:40.014Z"
   },
   {
    "duration": 23,
    "start_time": "2023-06-17T15:16:40.113Z"
   },
   {
    "duration": 19,
    "start_time": "2023-06-17T15:16:40.138Z"
   },
   {
    "duration": 10,
    "start_time": "2023-06-17T15:16:40.158Z"
   },
   {
    "duration": 22,
    "start_time": "2023-06-17T15:16:40.170Z"
   },
   {
    "duration": 55,
    "start_time": "2023-06-17T15:16:40.194Z"
   },
   {
    "duration": 5,
    "start_time": "2023-06-17T15:16:40.251Z"
   },
   {
    "duration": 14,
    "start_time": "2023-06-17T15:17:41.928Z"
   },
   {
    "duration": 47,
    "start_time": "2023-06-17T15:17:41.945Z"
   },
   {
    "duration": 57,
    "start_time": "2023-06-17T15:17:41.994Z"
   },
   {
    "duration": 88,
    "start_time": "2023-06-17T15:17:42.053Z"
   },
   {
    "duration": 34,
    "start_time": "2023-06-17T15:17:42.144Z"
   },
   {
    "duration": 36,
    "start_time": "2023-06-17T15:17:42.180Z"
   },
   {
    "duration": 33,
    "start_time": "2023-06-17T15:17:42.218Z"
   },
   {
    "duration": 10,
    "start_time": "2023-06-17T15:17:42.253Z"
   },
   {
    "duration": 19,
    "start_time": "2023-06-17T15:17:42.265Z"
   },
   {
    "duration": 10,
    "start_time": "2023-06-17T15:17:42.287Z"
   },
   {
    "duration": 59,
    "start_time": "2023-06-17T15:17:42.299Z"
   },
   {
    "duration": 16,
    "start_time": "2023-06-17T15:17:42.360Z"
   },
   {
    "duration": 14,
    "start_time": "2023-06-17T15:17:42.378Z"
   },
   {
    "duration": 138,
    "start_time": "2023-06-17T15:17:42.395Z"
   },
   {
    "duration": 95,
    "start_time": "2023-06-17T15:17:42.543Z"
   },
   {
    "duration": 109,
    "start_time": "2023-06-17T15:17:42.644Z"
   },
   {
    "duration": 65,
    "start_time": "2023-06-17T15:17:42.754Z"
   },
   {
    "duration": 153,
    "start_time": "2023-06-17T15:17:42.825Z"
   },
   {
    "duration": 26,
    "start_time": "2023-06-17T15:17:42.980Z"
   },
   {
    "duration": 53,
    "start_time": "2023-06-17T15:17:43.009Z"
   },
   {
    "duration": 16,
    "start_time": "2023-06-17T15:17:43.064Z"
   },
   {
    "duration": 12,
    "start_time": "2023-06-17T15:17:43.082Z"
   },
   {
    "duration": 24,
    "start_time": "2023-06-17T15:17:43.096Z"
   },
   {
    "duration": 43,
    "start_time": "2023-06-17T15:17:43.121Z"
   },
   {
    "duration": 27,
    "start_time": "2023-06-17T15:17:43.166Z"
   },
   {
    "duration": 3,
    "start_time": "2023-06-17T15:18:28.579Z"
   },
   {
    "duration": 56,
    "start_time": "2023-06-17T15:18:28.594Z"
   },
   {
    "duration": 41,
    "start_time": "2023-06-17T15:18:28.653Z"
   },
   {
    "duration": 38,
    "start_time": "2023-06-17T15:18:28.696Z"
   },
   {
    "duration": 31,
    "start_time": "2023-06-17T15:18:28.736Z"
   },
   {
    "duration": 16,
    "start_time": "2023-06-17T15:18:28.770Z"
   },
   {
    "duration": 5,
    "start_time": "2023-06-17T15:18:28.788Z"
   },
   {
    "duration": 14,
    "start_time": "2023-06-17T15:18:28.795Z"
   },
   {
    "duration": 39,
    "start_time": "2023-06-17T15:18:28.813Z"
   },
   {
    "duration": 6,
    "start_time": "2023-06-17T15:18:28.853Z"
   },
   {
    "duration": 11,
    "start_time": "2023-06-17T15:18:28.861Z"
   },
   {
    "duration": 24,
    "start_time": "2023-06-17T15:18:28.874Z"
   },
   {
    "duration": 42,
    "start_time": "2023-06-17T15:18:28.906Z"
   },
   {
    "duration": 24,
    "start_time": "2023-06-17T15:18:28.950Z"
   },
   {
    "duration": 144,
    "start_time": "2023-06-17T15:18:28.977Z"
   },
   {
    "duration": 106,
    "start_time": "2023-06-17T15:18:29.128Z"
   },
   {
    "duration": 36,
    "start_time": "2023-06-17T15:18:29.236Z"
   },
   {
    "duration": 49,
    "start_time": "2023-06-17T15:18:29.274Z"
   },
   {
    "duration": 97,
    "start_time": "2023-06-17T15:18:29.324Z"
   },
   {
    "duration": 13,
    "start_time": "2023-06-17T15:18:29.425Z"
   },
   {
    "duration": 9,
    "start_time": "2023-06-17T15:18:29.439Z"
   },
   {
    "duration": 7,
    "start_time": "2023-06-17T15:18:29.450Z"
   },
   {
    "duration": 20,
    "start_time": "2023-06-17T15:18:29.459Z"
   },
   {
    "duration": 52,
    "start_time": "2023-06-17T15:18:29.481Z"
   },
   {
    "duration": 25,
    "start_time": "2023-06-17T15:18:29.535Z"
   },
   {
    "duration": 3,
    "start_time": "2023-06-17T15:18:46.660Z"
   },
   {
    "duration": 50,
    "start_time": "2023-06-17T15:18:46.666Z"
   },
   {
    "duration": 29,
    "start_time": "2023-06-17T15:18:46.718Z"
   },
   {
    "duration": 34,
    "start_time": "2023-06-17T15:18:46.749Z"
   },
   {
    "duration": 78,
    "start_time": "2023-06-17T15:18:46.784Z"
   },
   {
    "duration": 18,
    "start_time": "2023-06-17T15:18:46.864Z"
   },
   {
    "duration": 18,
    "start_time": "2023-06-17T15:18:46.884Z"
   },
   {
    "duration": 63,
    "start_time": "2023-06-17T15:18:46.904Z"
   },
   {
    "duration": 28,
    "start_time": "2023-06-17T15:18:46.969Z"
   },
   {
    "duration": 54,
    "start_time": "2023-06-17T15:18:47.000Z"
   },
   {
    "duration": 12,
    "start_time": "2023-06-17T15:18:47.057Z"
   },
   {
    "duration": 25,
    "start_time": "2023-06-17T15:18:47.071Z"
   },
   {
    "duration": 54,
    "start_time": "2023-06-17T15:18:47.098Z"
   },
   {
    "duration": 68,
    "start_time": "2023-06-17T15:18:47.154Z"
   },
   {
    "duration": 134,
    "start_time": "2023-06-17T15:18:47.224Z"
   },
   {
    "duration": 185,
    "start_time": "2023-06-17T15:18:47.361Z"
   },
   {
    "duration": 33,
    "start_time": "2023-06-17T15:18:47.548Z"
   },
   {
    "duration": 131,
    "start_time": "2023-06-17T15:18:47.582Z"
   },
   {
    "duration": 39,
    "start_time": "2023-06-17T15:18:47.715Z"
   },
   {
    "duration": 3,
    "start_time": "2023-06-17T15:18:47.756Z"
   },
   {
    "duration": 19,
    "start_time": "2023-06-17T15:18:47.760Z"
   },
   {
    "duration": 8,
    "start_time": "2023-06-17T15:18:47.785Z"
   },
   {
    "duration": 46,
    "start_time": "2023-06-17T15:18:47.794Z"
   },
   {
    "duration": 23,
    "start_time": "2023-06-17T15:18:47.842Z"
   },
   {
    "duration": 25,
    "start_time": "2023-06-17T15:18:47.867Z"
   },
   {
    "duration": 7,
    "start_time": "2023-06-17T15:19:27.154Z"
   },
   {
    "duration": 10,
    "start_time": "2023-06-17T15:19:28.926Z"
   },
   {
    "duration": 9,
    "start_time": "2023-06-17T15:19:31.755Z"
   },
   {
    "duration": 3,
    "start_time": "2023-06-17T15:19:37.846Z"
   },
   {
    "duration": 43,
    "start_time": "2023-06-17T15:19:37.852Z"
   },
   {
    "duration": 21,
    "start_time": "2023-06-17T15:19:37.904Z"
   },
   {
    "duration": 29,
    "start_time": "2023-06-17T15:19:37.926Z"
   },
   {
    "duration": 25,
    "start_time": "2023-06-17T15:19:37.958Z"
   },
   {
    "duration": 13,
    "start_time": "2023-06-17T15:19:37.985Z"
   },
   {
    "duration": 12,
    "start_time": "2023-06-17T15:19:38.005Z"
   },
   {
    "duration": 20,
    "start_time": "2023-06-17T15:19:38.018Z"
   },
   {
    "duration": 16,
    "start_time": "2023-06-17T15:19:38.040Z"
   },
   {
    "duration": 6,
    "start_time": "2023-06-17T15:19:38.058Z"
   },
   {
    "duration": 18,
    "start_time": "2023-06-17T15:19:38.066Z"
   },
   {
    "duration": 7,
    "start_time": "2023-06-17T15:19:38.087Z"
   },
   {
    "duration": 53,
    "start_time": "2023-06-17T15:19:38.097Z"
   },
   {
    "duration": 77,
    "start_time": "2023-06-17T15:19:38.153Z"
   },
   {
    "duration": 110,
    "start_time": "2023-06-17T15:19:38.241Z"
   },
   {
    "duration": 56,
    "start_time": "2023-06-17T15:19:38.354Z"
   },
   {
    "duration": 137,
    "start_time": "2023-06-17T15:19:38.415Z"
   },
   {
    "duration": 179,
    "start_time": "2023-06-17T15:19:38.554Z"
   },
   {
    "duration": 10,
    "start_time": "2023-06-17T15:19:38.735Z"
   },
   {
    "duration": 10,
    "start_time": "2023-06-17T15:19:38.747Z"
   },
   {
    "duration": 8,
    "start_time": "2023-06-17T15:19:38.759Z"
   },
   {
    "duration": 10,
    "start_time": "2023-06-17T15:19:38.768Z"
   },
   {
    "duration": 10,
    "start_time": "2023-06-17T15:19:38.779Z"
   },
   {
    "duration": 26,
    "start_time": "2023-06-17T15:19:38.791Z"
   },
   {
    "duration": 17,
    "start_time": "2023-06-17T15:19:38.826Z"
   },
   {
    "duration": 6,
    "start_time": "2023-06-17T15:20:20.927Z"
   },
   {
    "duration": 2,
    "start_time": "2023-06-17T15:20:24.568Z"
   },
   {
    "duration": 70,
    "start_time": "2023-06-17T15:20:24.574Z"
   },
   {
    "duration": 13,
    "start_time": "2023-06-17T15:20:24.646Z"
   },
   {
    "duration": 29,
    "start_time": "2023-06-17T15:20:24.661Z"
   },
   {
    "duration": 46,
    "start_time": "2023-06-17T15:20:24.692Z"
   },
   {
    "duration": 15,
    "start_time": "2023-06-17T15:20:24.740Z"
   },
   {
    "duration": 11,
    "start_time": "2023-06-17T15:20:24.756Z"
   },
   {
    "duration": 15,
    "start_time": "2023-06-17T15:20:24.769Z"
   },
   {
    "duration": 10,
    "start_time": "2023-06-17T15:20:24.786Z"
   },
   {
    "duration": 29,
    "start_time": "2023-06-17T15:20:24.797Z"
   },
   {
    "duration": 7,
    "start_time": "2023-06-17T15:20:24.828Z"
   },
   {
    "duration": 17,
    "start_time": "2023-06-17T15:20:24.837Z"
   },
   {
    "duration": 19,
    "start_time": "2023-06-17T15:20:24.855Z"
   },
   {
    "duration": 25,
    "start_time": "2023-06-17T15:20:24.875Z"
   },
   {
    "duration": 166,
    "start_time": "2023-06-17T15:20:24.904Z"
   },
   {
    "duration": 130,
    "start_time": "2023-06-17T15:20:25.104Z"
   },
   {
    "duration": 17,
    "start_time": "2023-06-17T15:20:25.236Z"
   },
   {
    "duration": 86,
    "start_time": "2023-06-17T15:20:25.255Z"
   },
   {
    "duration": 70,
    "start_time": "2023-06-17T15:20:25.343Z"
   },
   {
    "duration": 36,
    "start_time": "2023-06-17T15:20:25.415Z"
   },
   {
    "duration": 18,
    "start_time": "2023-06-17T15:20:25.454Z"
   },
   {
    "duration": 79,
    "start_time": "2023-06-17T15:20:25.474Z"
   },
   {
    "duration": 84,
    "start_time": "2023-06-17T15:20:25.555Z"
   },
   {
    "duration": 32,
    "start_time": "2023-06-17T15:20:25.640Z"
   },
   {
    "duration": 34,
    "start_time": "2023-06-17T15:20:25.674Z"
   },
   {
    "duration": 3,
    "start_time": "2023-06-17T15:24:08.078Z"
   },
   {
    "duration": 4,
    "start_time": "2023-06-17T15:24:15.180Z"
   },
   {
    "duration": 2,
    "start_time": "2023-06-17T15:24:18.734Z"
   },
   {
    "duration": 67,
    "start_time": "2023-06-17T15:24:18.739Z"
   },
   {
    "duration": 23,
    "start_time": "2023-06-17T15:24:18.808Z"
   },
   {
    "duration": 40,
    "start_time": "2023-06-17T15:24:18.832Z"
   },
   {
    "duration": 45,
    "start_time": "2023-06-17T15:24:18.875Z"
   },
   {
    "duration": 33,
    "start_time": "2023-06-17T15:24:18.921Z"
   },
   {
    "duration": 9,
    "start_time": "2023-06-17T15:24:18.955Z"
   },
   {
    "duration": 6,
    "start_time": "2023-06-17T15:24:18.965Z"
   },
   {
    "duration": 21,
    "start_time": "2023-06-17T15:24:18.972Z"
   },
   {
    "duration": 3,
    "start_time": "2023-06-17T15:24:18.994Z"
   },
   {
    "duration": 48,
    "start_time": "2023-06-17T15:24:19.000Z"
   },
   {
    "duration": 11,
    "start_time": "2023-06-17T15:24:19.050Z"
   },
   {
    "duration": 19,
    "start_time": "2023-06-17T15:24:19.062Z"
   },
   {
    "duration": 52,
    "start_time": "2023-06-17T15:24:19.082Z"
   },
   {
    "duration": 83,
    "start_time": "2023-06-17T15:24:19.136Z"
   },
   {
    "duration": 12,
    "start_time": "2023-06-17T15:24:19.226Z"
   },
   {
    "duration": 122,
    "start_time": "2023-06-17T15:24:19.304Z"
   },
   {
    "duration": 88,
    "start_time": "2023-06-17T15:24:19.430Z"
   },
   {
    "duration": 26,
    "start_time": "2023-06-17T15:24:19.519Z"
   },
   {
    "duration": 8,
    "start_time": "2023-06-17T15:24:19.546Z"
   },
   {
    "duration": 11,
    "start_time": "2023-06-17T15:24:19.555Z"
   },
   {
    "duration": 12,
    "start_time": "2023-06-17T15:24:19.567Z"
   },
   {
    "duration": 8,
    "start_time": "2023-06-17T15:24:19.581Z"
   },
   {
    "duration": 9,
    "start_time": "2023-06-17T15:24:19.590Z"
   },
   {
    "duration": 26,
    "start_time": "2023-06-17T15:24:19.613Z"
   },
   {
    "duration": 6,
    "start_time": "2023-06-17T15:24:19.640Z"
   },
   {
    "duration": 5,
    "start_time": "2023-06-17T15:26:09.005Z"
   },
   {
    "duration": 7,
    "start_time": "2023-06-17T15:28:01.769Z"
   },
   {
    "duration": 5,
    "start_time": "2023-06-17T15:28:02.627Z"
   },
   {
    "duration": 11,
    "start_time": "2023-06-17T15:28:03.218Z"
   },
   {
    "duration": 7,
    "start_time": "2023-06-17T15:28:04.041Z"
   },
   {
    "duration": 8,
    "start_time": "2023-06-17T15:28:04.458Z"
   },
   {
    "duration": 4,
    "start_time": "2023-06-17T15:28:04.993Z"
   },
   {
    "duration": 3,
    "start_time": "2023-06-17T15:28:42.263Z"
   },
   {
    "duration": 4,
    "start_time": "2023-06-17T15:28:42.726Z"
   },
   {
    "duration": 8,
    "start_time": "2023-06-17T15:28:43.428Z"
   },
   {
    "duration": 15,
    "start_time": "2023-06-17T15:28:43.890Z"
   },
   {
    "duration": 4,
    "start_time": "2023-06-17T15:28:44.325Z"
   },
   {
    "duration": 3,
    "start_time": "2023-06-17T15:30:20.526Z"
   },
   {
    "duration": 36,
    "start_time": "2023-06-17T15:30:20.531Z"
   },
   {
    "duration": 9,
    "start_time": "2023-06-17T15:30:20.568Z"
   },
   {
    "duration": 12,
    "start_time": "2023-06-17T15:30:20.579Z"
   },
   {
    "duration": 25,
    "start_time": "2023-06-17T15:30:20.593Z"
   },
   {
    "duration": 20,
    "start_time": "2023-06-17T15:30:20.619Z"
   },
   {
    "duration": 4,
    "start_time": "2023-06-17T15:30:20.641Z"
   },
   {
    "duration": 4,
    "start_time": "2023-06-17T15:30:20.647Z"
   },
   {
    "duration": 13,
    "start_time": "2023-06-17T15:30:20.652Z"
   },
   {
    "duration": 2,
    "start_time": "2023-06-17T15:30:20.666Z"
   },
   {
    "duration": 6,
    "start_time": "2023-06-17T15:30:20.670Z"
   },
   {
    "duration": 8,
    "start_time": "2023-06-17T15:30:20.678Z"
   },
   {
    "duration": 13,
    "start_time": "2023-06-17T15:30:20.704Z"
   },
   {
    "duration": 27,
    "start_time": "2023-06-17T15:30:20.719Z"
   },
   {
    "duration": 173,
    "start_time": "2023-06-17T15:30:20.748Z"
   },
   {
    "duration": 134,
    "start_time": "2023-06-17T15:30:20.922Z"
   },
   {
    "duration": 75,
    "start_time": "2023-06-17T15:30:21.058Z"
   },
   {
    "duration": 67,
    "start_time": "2023-06-17T15:30:21.137Z"
   },
   {
    "duration": 49,
    "start_time": "2023-06-17T15:30:21.208Z"
   },
   {
    "duration": 8,
    "start_time": "2023-06-17T15:30:21.258Z"
   },
   {
    "duration": 16,
    "start_time": "2023-06-17T15:30:21.268Z"
   },
   {
    "duration": 10,
    "start_time": "2023-06-17T15:30:21.285Z"
   },
   {
    "duration": 46,
    "start_time": "2023-06-17T15:30:21.297Z"
   },
   {
    "duration": 21,
    "start_time": "2023-06-17T15:30:21.344Z"
   },
   {
    "duration": 17,
    "start_time": "2023-06-17T15:30:21.366Z"
   },
   {
    "duration": 11,
    "start_time": "2023-06-17T15:30:21.384Z"
   },
   {
    "duration": 3,
    "start_time": "2023-06-17T15:33:10.544Z"
   },
   {
    "duration": 34,
    "start_time": "2023-06-17T15:33:10.548Z"
   },
   {
    "duration": 9,
    "start_time": "2023-06-17T15:33:10.584Z"
   },
   {
    "duration": 60,
    "start_time": "2023-06-17T15:33:10.595Z"
   },
   {
    "duration": 21,
    "start_time": "2023-06-17T15:33:10.657Z"
   },
   {
    "duration": 12,
    "start_time": "2023-06-17T15:33:10.679Z"
   },
   {
    "duration": 4,
    "start_time": "2023-06-17T15:33:10.693Z"
   },
   {
    "duration": 46,
    "start_time": "2023-06-17T15:33:10.698Z"
   },
   {
    "duration": 14,
    "start_time": "2023-06-17T15:33:10.746Z"
   },
   {
    "duration": 2,
    "start_time": "2023-06-17T15:33:10.761Z"
   },
   {
    "duration": 6,
    "start_time": "2023-06-17T15:33:10.765Z"
   },
   {
    "duration": 13,
    "start_time": "2023-06-17T15:33:10.772Z"
   },
   {
    "duration": 23,
    "start_time": "2023-06-17T15:33:10.786Z"
   },
   {
    "duration": 40,
    "start_time": "2023-06-17T15:33:10.812Z"
   },
   {
    "duration": 194,
    "start_time": "2023-06-17T15:33:10.855Z"
   },
   {
    "duration": 189,
    "start_time": "2023-06-17T15:33:11.050Z"
   },
   {
    "duration": 17,
    "start_time": "2023-06-17T15:33:11.241Z"
   },
   {
    "duration": 54,
    "start_time": "2023-06-17T15:33:11.259Z"
   },
   {
    "duration": 24,
    "start_time": "2023-06-17T15:33:11.314Z"
   },
   {
    "duration": 18,
    "start_time": "2023-06-17T15:33:11.342Z"
   },
   {
    "duration": 38,
    "start_time": "2023-06-17T15:33:11.404Z"
   },
   {
    "duration": 8,
    "start_time": "2023-06-17T15:33:11.443Z"
   },
   {
    "duration": 9,
    "start_time": "2023-06-17T15:33:11.452Z"
   },
   {
    "duration": 46,
    "start_time": "2023-06-17T15:33:11.463Z"
   },
   {
    "duration": 70,
    "start_time": "2023-06-17T15:33:11.510Z"
   },
   {
    "duration": 54,
    "start_time": "2023-06-17T15:33:11.582Z"
   },
   {
    "duration": 2038,
    "start_time": "2023-06-17T15:59:51.201Z"
   },
   {
    "duration": 30,
    "start_time": "2023-06-17T15:59:53.241Z"
   },
   {
    "duration": 15,
    "start_time": "2023-06-17T15:59:53.273Z"
   },
   {
    "duration": 13,
    "start_time": "2023-06-17T15:59:53.290Z"
   },
   {
    "duration": 24,
    "start_time": "2023-06-17T15:59:53.304Z"
   },
   {
    "duration": 30,
    "start_time": "2023-06-17T15:59:53.330Z"
   },
   {
    "duration": 5,
    "start_time": "2023-06-17T15:59:53.362Z"
   },
   {
    "duration": 16,
    "start_time": "2023-06-17T15:59:53.369Z"
   },
   {
    "duration": 12,
    "start_time": "2023-06-17T15:59:53.387Z"
   },
   {
    "duration": 16,
    "start_time": "2023-06-17T15:59:53.402Z"
   },
   {
    "duration": 12,
    "start_time": "2023-06-17T15:59:53.420Z"
   },
   {
    "duration": 10,
    "start_time": "2023-06-17T15:59:53.434Z"
   },
   {
    "duration": 3,
    "start_time": "2023-06-17T15:59:53.446Z"
   },
   {
    "duration": 12,
    "start_time": "2023-06-17T15:59:53.451Z"
   },
   {
    "duration": 95,
    "start_time": "2023-06-17T15:59:53.465Z"
   },
   {
    "duration": 5,
    "start_time": "2023-06-17T15:59:53.562Z"
   },
   {
    "duration": 100,
    "start_time": "2023-06-17T15:59:53.658Z"
   },
   {
    "duration": 10,
    "start_time": "2023-06-17T15:59:53.760Z"
   },
   {
    "duration": 91,
    "start_time": "2023-06-17T15:59:53.772Z"
   },
   {
    "duration": 4,
    "start_time": "2023-06-17T15:59:53.865Z"
   },
   {
    "duration": 14,
    "start_time": "2023-06-17T15:59:53.870Z"
   },
   {
    "duration": 4,
    "start_time": "2023-06-17T15:59:53.885Z"
   },
   {
    "duration": 15,
    "start_time": "2023-06-17T15:59:53.895Z"
   },
   {
    "duration": 21,
    "start_time": "2023-06-17T15:59:53.912Z"
   },
   {
    "duration": 28,
    "start_time": "2023-06-17T15:59:53.935Z"
   },
   {
    "duration": 7,
    "start_time": "2023-06-17T15:59:53.965Z"
   }
  ],
  "kernelspec": {
   "display_name": "Python 3",
   "language": "python",
   "name": "python3"
  },
  "language_info": {
   "codemirror_mode": {
    "name": "ipython",
    "version": 3
   },
   "file_extension": ".py",
   "mimetype": "text/x-python",
   "name": "python",
   "nbconvert_exporter": "python",
   "pygments_lexer": "ipython3",
   "version": "3.8.8"
  },
  "toc": {
   "base_numbering": 1,
   "nav_menu": {},
   "number_sections": true,
   "sideBar": true,
   "skip_h1_title": true,
   "title_cell": "Содержание",
   "title_sidebar": "Contents",
   "toc_cell": true,
   "toc_position": {},
   "toc_section_display": true,
   "toc_window_display": true
  }
 },
 "nbformat": 4,
 "nbformat_minor": 2
}
