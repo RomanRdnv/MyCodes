{
 "cells": [
  {
   "cell_type": "markdown",
   "metadata": {
    "toc": true
   },
   "source": [
    "<h1>Содержание<span class=\"tocSkip\"></span></h1>\n",
    "<div class=\"toc\"><ul class=\"toc-item\"><li><span><a href=\"#Подготовка\" data-toc-modified-id=\"Подготовка-1\"><span class=\"toc-item-num\">1&nbsp;&nbsp;</span>Подготовка</a></span></li><li><span><a href=\"#Обучение\" data-toc-modified-id=\"Обучение-2\"><span class=\"toc-item-num\">2&nbsp;&nbsp;</span>Обучение</a></span><ul class=\"toc-item\"><li><span><a href=\"#Logistic-Regression\" data-toc-modified-id=\"Logistic-Regression-2.1\"><span class=\"toc-item-num\">2.1&nbsp;&nbsp;</span>Logistic Regression</a></span></li><li><span><a href=\"#Decision-Tree-Classifier\" data-toc-modified-id=\"Decision-Tree-Classifier-2.2\"><span class=\"toc-item-num\">2.2&nbsp;&nbsp;</span>Decision Tree Classifier</a></span></li><li><span><a href=\"#CatBoostClassifier\" data-toc-modified-id=\"CatBoostClassifier-2.3\"><span class=\"toc-item-num\">2.3&nbsp;&nbsp;</span>CatBoostClassifier</a></span></li></ul></li><li><span><a href=\"#Выводы\" data-toc-modified-id=\"Выводы-3\"><span class=\"toc-item-num\">3&nbsp;&nbsp;</span>Выводы</a></span></li><li><span><a href=\"#Чек-лист-проверки\" data-toc-modified-id=\"Чек-лист-проверки-4\"><span class=\"toc-item-num\">4&nbsp;&nbsp;</span>Чек-лист проверки</a></span></li></ul></div>"
   ]
  },
  {
   "cell_type": "markdown",
   "metadata": {},
   "source": [
    "# Проект для «Викишоп»"
   ]
  },
  {
   "cell_type": "markdown",
   "metadata": {},
   "source": [
    "Интернет-магазин «Викишоп» запускает новый сервис. Теперь пользователи могут редактировать и дополнять описания товаров, как в вики-сообществах. То есть клиенты предлагают свои правки и комментируют изменения других. Магазину нужен инструмент, который будет искать токсичные комментарии и отправлять их на модерацию. \n",
    "\n",
    "Обучите модель классифицировать комментарии на позитивные и негативные. В вашем распоряжении набор данных с разметкой о токсичности правок.\n",
    "\n",
    "Постройте модель со значением метрики качества *F1* не меньше 0.75. \n",
    "\n",
    "**Инструкция по выполнению проекта**\n",
    "\n",
    "1. Загрузите и подготовьте данные.\n",
    "2. Обучите разные модели. \n",
    "3. Сделайте выводы.\n",
    "\n",
    "Для выполнения проекта применять *BERT* необязательно, но вы можете попробовать.\n",
    "\n",
    "**Описание данных**\n",
    "\n",
    "Данные находятся в файле `toxic_comments.csv`. Столбец *text* в нём содержит текст комментария, а *toxic* — целевой признак."
   ]
  },
  {
   "cell_type": "markdown",
   "metadata": {},
   "source": [
    "## Подготовка"
   ]
  },
  {
   "cell_type": "code",
   "execution_count": 43,
   "metadata": {},
   "outputs": [],
   "source": [
    "import numpy as np\n",
    "import pandas as pd\n",
    "import re\n",
    "import nltk\n",
    "\n",
    "from nltk.stem import WordNetLemmatizer\n",
    "from nltk.corpus import stopwords as nltk_stopwords\n",
    "from nltk.corpus import wordnet\n",
    "\n",
    "from sklearn.feature_extraction.text import TfidfVectorizer\n",
    "from sklearn.model_selection import train_test_split, cross_val_score, GridSearchCV\n",
    "from sklearn.linear_model import LogisticRegression\n",
    "from sklearn.tree import DecisionTreeClassifier\n",
    "from sklearn.metrics import f1_score, precision_score, recall_score, accuracy_score, roc_auc_score, roc_curve\n",
    "from sklearn.utils import shuffle\n",
    "from sklearn.pipeline import Pipeline\n",
    "\n",
    "from catboost import CatBoostClassifier\n",
    "\n",
    "import matplotlib.pyplot as plt\n",
    "import warnings\n",
    "warnings.filterwarnings('ignore')\n",
    "\n",
    "import spacy"
   ]
  },
  {
   "cell_type": "code",
   "execution_count": 44,
   "metadata": {},
   "outputs": [
    {
     "data": {
      "text/html": [
       "<div>\n",
       "<style scoped>\n",
       "    .dataframe tbody tr th:only-of-type {\n",
       "        vertical-align: middle;\n",
       "    }\n",
       "\n",
       "    .dataframe tbody tr th {\n",
       "        vertical-align: top;\n",
       "    }\n",
       "\n",
       "    .dataframe thead th {\n",
       "        text-align: right;\n",
       "    }\n",
       "</style>\n",
       "<table border=\"1\" class=\"dataframe\">\n",
       "  <thead>\n",
       "    <tr style=\"text-align: right;\">\n",
       "      <th></th>\n",
       "      <th>Unnamed: 0</th>\n",
       "      <th>text</th>\n",
       "      <th>toxic</th>\n",
       "    </tr>\n",
       "  </thead>\n",
       "  <tbody>\n",
       "    <tr>\n",
       "      <th>95508</th>\n",
       "      <td>95600</td>\n",
       "      <td>Hi Pete \\n\\nYou're a prick!\\n\\nYours sincerely...</td>\n",
       "      <td>1</td>\n",
       "    </tr>\n",
       "    <tr>\n",
       "      <th>17022</th>\n",
       "      <td>17039</td>\n",
       "      <td>Clearly you *haven't* read WP:NPA, otherwise y...</td>\n",
       "      <td>0</td>\n",
       "    </tr>\n",
       "    <tr>\n",
       "      <th>29452</th>\n",
       "      <td>29491</td>\n",
       "      <td>\" \\nIt's not so easy, I do it as good I can, b...</td>\n",
       "      <td>0</td>\n",
       "    </tr>\n",
       "    <tr>\n",
       "      <th>51017</th>\n",
       "      <td>51073</td>\n",
       "      <td>I didn't mean it. I apologise.  2.124.146.187</td>\n",
       "      <td>0</td>\n",
       "    </tr>\n",
       "    <tr>\n",
       "      <th>127197</th>\n",
       "      <td>127328</td>\n",
       "      <td>This has been discussed to death.  The consens...</td>\n",
       "      <td>0</td>\n",
       "    </tr>\n",
       "    <tr>\n",
       "      <th>103154</th>\n",
       "      <td>103251</td>\n",
       "      <td>\"\\n\\n Now, for those who won’t read, let me tr...</td>\n",
       "      <td>0</td>\n",
       "    </tr>\n",
       "    <tr>\n",
       "      <th>96067</th>\n",
       "      <td>96159</td>\n",
       "      <td>Others prior to that time should be checked on...</td>\n",
       "      <td>0</td>\n",
       "    </tr>\n",
       "    <tr>\n",
       "      <th>132216</th>\n",
       "      <td>132352</td>\n",
       "      <td>to Chernobyl disaster</td>\n",
       "      <td>0</td>\n",
       "    </tr>\n",
       "    <tr>\n",
       "      <th>120810</th>\n",
       "      <td>120915</td>\n",
       "      <td>Teaching how to make pipe bombs. \\n\\nShame oin...</td>\n",
       "      <td>0</td>\n",
       "    </tr>\n",
       "    <tr>\n",
       "      <th>62619</th>\n",
       "      <td>62686</td>\n",
       "      <td>\"\\n\\nWhy should I give a fuck! LEAVE ME ALONE,...</td>\n",
       "      <td>1</td>\n",
       "    </tr>\n",
       "    <tr>\n",
       "      <th>131599</th>\n",
       "      <td>131735</td>\n",
       "      <td>, rather than a genuine concern over a particu...</td>\n",
       "      <td>0</td>\n",
       "    </tr>\n",
       "    <tr>\n",
       "      <th>57019</th>\n",
       "      <td>57080</td>\n",
       "      <td>sad notice \\n\\nSince you were the first to pos...</td>\n",
       "      <td>0</td>\n",
       "    </tr>\n",
       "    <tr>\n",
       "      <th>40441</th>\n",
       "      <td>40491</td>\n",
       "      <td>No more or less than many other pages in this ...</td>\n",
       "      <td>0</td>\n",
       "    </tr>\n",
       "    <tr>\n",
       "      <th>100699</th>\n",
       "      <td>100796</td>\n",
       "      <td>No problem, then. Thanks. —</td>\n",
       "      <td>0</td>\n",
       "    </tr>\n",
       "    <tr>\n",
       "      <th>55062</th>\n",
       "      <td>55123</td>\n",
       "      <td>\"\\nMentioning it on the page isn't going to ha...</td>\n",
       "      <td>0</td>\n",
       "    </tr>\n",
       "  </tbody>\n",
       "</table>\n",
       "</div>"
      ],
      "text/plain": [
       "        Unnamed: 0                                               text  toxic\n",
       "95508        95600  Hi Pete \\n\\nYou're a prick!\\n\\nYours sincerely...      1\n",
       "17022        17039  Clearly you *haven't* read WP:NPA, otherwise y...      0\n",
       "29452        29491  \" \\nIt's not so easy, I do it as good I can, b...      0\n",
       "51017        51073      I didn't mean it. I apologise.  2.124.146.187      0\n",
       "127197      127328  This has been discussed to death.  The consens...      0\n",
       "103154      103251  \"\\n\\n Now, for those who won’t read, let me tr...      0\n",
       "96067        96159  Others prior to that time should be checked on...      0\n",
       "132216      132352                              to Chernobyl disaster      0\n",
       "120810      120915  Teaching how to make pipe bombs. \\n\\nShame oin...      0\n",
       "62619        62686  \"\\n\\nWhy should I give a fuck! LEAVE ME ALONE,...      1\n",
       "131599      131735  , rather than a genuine concern over a particu...      0\n",
       "57019        57080  sad notice \\n\\nSince you were the first to pos...      0\n",
       "40441        40491  No more or less than many other pages in this ...      0\n",
       "100699      100796                        No problem, then. Thanks. —      0\n",
       "55062        55123  \"\\nMentioning it on the page isn't going to ha...      0"
      ]
     },
     "execution_count": 44,
     "metadata": {},
     "output_type": "execute_result"
    }
   ],
   "source": [
    "data = pd.read_csv('/datasets/toxic_comments.csv')\n",
    "data.sample(15)\n",
    "#data.head(15)"
   ]
  },
  {
   "cell_type": "code",
   "execution_count": 45,
   "metadata": {},
   "outputs": [
    {
     "name": "stdout",
     "output_type": "stream",
     "text": [
      "<class 'pandas.core.frame.DataFrame'>\n",
      "RangeIndex: 159292 entries, 0 to 159291\n",
      "Data columns (total 3 columns):\n",
      " #   Column      Non-Null Count   Dtype \n",
      "---  ------      --------------   ----- \n",
      " 0   Unnamed: 0  159292 non-null  int64 \n",
      " 1   text        159292 non-null  object\n",
      " 2   toxic       159292 non-null  int64 \n",
      "dtypes: int64(2), object(1)\n",
      "memory usage: 3.6+ MB\n"
     ]
    }
   ],
   "source": [
    "data.info()"
   ]
  },
  {
   "cell_type": "code",
   "execution_count": 46,
   "metadata": {
    "scrolled": true
   },
   "outputs": [
    {
     "data": {
      "text/plain": [
       "0    143106\n",
       "1     16186\n",
       "Name: toxic, dtype: int64"
      ]
     },
     "metadata": {},
     "output_type": "display_data"
    }
   ],
   "source": [
    "display(data['toxic'].value_counts())"
   ]
  },
  {
   "cell_type": "markdown",
   "metadata": {},
   "source": [
    "**Классы несбалансированы**"
   ]
  },
  {
   "cell_type": "code",
   "execution_count": 47,
   "metadata": {},
   "outputs": [],
   "source": [
    "# lemmatizer = WordNetLemmatizer()\n",
    "\n",
    "# def lemmatize_text(text):\n",
    "#     text = text.lower()\n",
    "#     lemm_text = ''.join(lemmatizer.lemmatize(text))\n",
    "#     cleared_text = re.sub(r'[^a-zA-Z]', ' ', lemm_text) \n",
    "#     return ' '.join(cleared_text.split())\n",
    "\n",
    "# data['lemm_text'] = data['text'].apply(lemmatize_text)\n",
    "# data = data.drop(['text'], axis=1)\n",
    "\n",
    "# print(data)"
   ]
  },
  {
   "cell_type": "code",
   "execution_count": 48,
   "metadata": {},
   "outputs": [],
   "source": [
    "data = data.drop(['Unnamed: 0'], axis=1)\n",
    "\n",
    "# функиция очистки текста:\n",
    "\n",
    "def clear_text(text):\n",
    "    text = text.lower()\n",
    "    text = re.sub(r'[^a-zA-Z]', ' ', text)   \n",
    "    text = ' '.join(text.split())\n",
    "    return text"
   ]
  },
  {
   "cell_type": "code",
   "execution_count": 49,
   "metadata": {},
   "outputs": [
    {
     "name": "stdout",
     "output_type": "stream",
     "text": [
      "CPU times: user 4.14 s, sys: 32.9 ms, total: 4.18 s\n",
      "Wall time: 4.2 s\n"
     ]
    }
   ],
   "source": [
    "%%time\n",
    "\n",
    "# очистка постов:\n",
    "\n",
    "data['text'] = data['text'].apply(clear_text) "
   ]
  },
  {
   "cell_type": "code",
   "execution_count": 50,
   "metadata": {},
   "outputs": [],
   "source": [
    "# РОS-тэгирование\n",
    "\n",
    "def pos(word):\n",
    "    tag = nltk.pos_tag([word])[0][1][0].upper()\n",
    "    tag_dict = {\"J\": wordnet.ADJ,               #прилагательное\n",
    "                \"N\": wordnet.NOUN,              #существительное\n",
    "                \"V\": wordnet.VERB,              #глагол\n",
    "                \"R\": wordnet.ADV                #наречие\n",
    "               }  \n",
    "    return tag_dict.get(tag, wordnet.NOUN)\n",
    "\n",
    "lemmatizer = WordNetLemmatizer()\n",
    "\n",
    "# функция лемматизации текста:\n",
    "\n",
    "def lemm_text(text):\n",
    "    text = [lemmatizer.lemmatize(w, pos(w)) for w in nltk.word_tokenize(text)]\n",
    "    return ' '.join(text)"
   ]
  },
  {
   "cell_type": "code",
   "execution_count": 51,
   "metadata": {},
   "outputs": [
    {
     "name": "stderr",
     "output_type": "stream",
     "text": [
      "[nltk_data] Downloading package averaged_perceptron_tagger to\n",
      "[nltk_data]     /home/jovyan/nltk_data...\n",
      "[nltk_data]   Package averaged_perceptron_tagger is already up-to-\n",
      "[nltk_data]       date!\n"
     ]
    },
    {
     "name": "stdout",
     "output_type": "stream",
     "text": [
      "CPU times: user 17min 47s, sys: 1min 40s, total: 19min 28s\n",
      "Wall time: 19min 29s\n"
     ]
    }
   ],
   "source": [
    "%%time\n",
    "\n",
    "nltk.download('averaged_perceptron_tagger')\n",
    "\n",
    "#лемматизация текста:\n",
    "\n",
    "data['text'] = data['text'].apply(lemm_text) \n",
    "\n",
    "# 19 мин"
   ]
  },
  {
   "cell_type": "markdown",
   "metadata": {},
   "source": [
    "**ПРОВЕРКА: НАЧАЛО**"
   ]
  },
  {
   "cell_type": "code",
   "execution_count": 52,
   "metadata": {},
   "outputs": [
    {
     "name": "stdout",
     "output_type": "stream",
     "text": [
      "                                                text\n",
      "0  The striped bats are hanging on their feet for...\n",
      "1      you should be ashamed of yourself went worked\n"
     ]
    }
   ],
   "source": [
    "sentence1 = \"The striped bats are hanging on their feet for best\"\n",
    "sentence2 = \"you should be ashamed of yourself went worked\"\n",
    "df_my = pd.DataFrame([sentence1, sentence2], columns = ['text'])\n",
    "print(df_my)"
   ]
  },
  {
   "cell_type": "code",
   "execution_count": 53,
   "metadata": {},
   "outputs": [],
   "source": [
    "nlp = spacy.load('en_core_web_sm')\n",
    "\n",
    "def func(text):\n",
    "    doc = nlp(text) \n",
    "    return ' '.join([token.lemma_ for token in doc])"
   ]
  },
  {
   "cell_type": "code",
   "execution_count": 54,
   "metadata": {},
   "outputs": [
    {
     "name": "stdout",
     "output_type": "stream",
     "text": [
      "0    the stripe bat be hang on their foot for good\n",
      "1        you should be ashamed of yourself go work\n",
      "Name: text, dtype: object\n"
     ]
    }
   ],
   "source": [
    "print(df_my['text'].apply(func))"
   ]
  },
  {
   "cell_type": "markdown",
   "metadata": {},
   "source": [
    "**ПРОВЕРКА: КОНЕЦ**"
   ]
  },
  {
   "cell_type": "markdown",
   "metadata": {},
   "source": [
    "**по идее что-то типа такого должно работать (не хватает только удаления символов типа точек, запятых и тд), но оно грузится бесконечно долго, поэтому через POS-тэгирование сделал в итоге**"
   ]
  },
  {
   "cell_type": "code",
   "execution_count": 55,
   "metadata": {},
   "outputs": [],
   "source": [
    "# data['lemm_text'] = data['text'].apply(func)"
   ]
  },
  {
   "cell_type": "markdown",
   "metadata": {},
   "source": [
    "**Провели лемматизацию**"
   ]
  },
  {
   "cell_type": "code",
   "execution_count": 56,
   "metadata": {},
   "outputs": [],
   "source": [
    "#data.head()"
   ]
  },
  {
   "cell_type": "code",
   "execution_count": 57,
   "metadata": {},
   "outputs": [
    {
     "name": "stdout",
     "output_type": "stream",
     "text": [
      "(127433, 1)\n",
      "(127433,)\n",
      "(31859, 1)\n",
      "(31859,)\n"
     ]
    }
   ],
   "source": [
    "# Разбиваем датасет на выборки с пропорциями - train:test = 4:1\n",
    "\n",
    "target = data['toxic']\n",
    "features = data.drop(['toxic'], axis=1)\n",
    "\n",
    "# features_train, features_valid, target_train, target_valid = train_test_split(features, \n",
    "#                                                                               target, \n",
    "#                                                                               test_size=0.5, \n",
    "#                                                                               random_state=777)\n",
    "# features_valid, features_test, target_valid, target_test = train_test_split(features_valid, \n",
    "#                                                                             target_valid, \n",
    "#                                                                             test_size=0.5,\n",
    "#                                                                             random_state=777)\n",
    "\n",
    "features_train, features_test, target_train, target_test = train_test_split(features, \n",
    "                                                                            target, \n",
    "                                                                            test_size=0.2, \n",
    "                                                                            random_state=777,\n",
    "                                                                            stratify=target)\n",
    "\n",
    "# nltk.download('stopwords')\n",
    "# stpwrds = set(nltk_stopwords.words('english'))\n",
    "\n",
    "# vectorizer = TfidfVectorizer(stop_words=stpwrds)\n",
    "\n",
    "# features_train = vectorizer.fit_transform(features_train['text'])\n",
    "# features_valid = vectorizer.transform(features_valid['lemm_text'].values.astype('U'))\n",
    "# features_test = vectorizer.transform(features_test['text'])\n",
    "\n",
    "for i in [features_train, target_train, features_test, target_test]:\n",
    "    print(i.shape)"
   ]
  },
  {
   "cell_type": "markdown",
   "metadata": {},
   "source": [
    "## Обучение"
   ]
  },
  {
   "cell_type": "markdown",
   "metadata": {},
   "source": [
    "### Logistic Regression"
   ]
  },
  {
   "cell_type": "code",
   "execution_count": 58,
   "metadata": {},
   "outputs": [],
   "source": [
    "# %%time\n",
    "\n",
    "# model_LR = LogisticRegression(random_state=777)\n",
    "# param_LR = [{'C':[10], 'class_weight': ['balanced']}]\n",
    "# grid_LR = GridSearchCV(model_LR, param_LR, scoring = 'f1', cv = 3).fit(features_train, target_train)\n",
    "# print('best params:')\n",
    "# best_param_LR = grid_LR.best_params_\n",
    "# print(best_param_LR)\n",
    "# print('--------------------')\n",
    "# print('grid score')\n",
    "# means = grid_LR.cv_results_['mean_test_score']\n",
    "# stds = grid_LR.cv_results_['std_test_score']\n",
    "# for mean, std, params in zip(means, stds, grid_LR.cv_results_['params']):\n",
    "#     print(\"%0.6f for %r\"% (mean, params))\n",
    "# print()\n",
    "\n",
    "# f1_LR_cv = max(means)"
   ]
  },
  {
   "cell_type": "code",
   "execution_count": null,
   "metadata": {},
   "outputs": [],
   "source": [
    "%%time\n",
    "\n",
    "pipeline = Pipeline([('vect', TfidfVectorizer(stop_words='english', sublinear_tf=True)), \n",
    "                     ('lr', LogisticRegression())])\n",
    "    \n",
    "parameters = {'lr__solver': ('liblinear', 'saga', 'newton-cg', 'lbfgs'),\n",
    "              'lr__C': (.1, 1, 5, 10),\n",
    "              'lr__random_state': ([777]),\n",
    "              'lr__max_iter': ([200]),\n",
    "              'lr__class_weight': (['balanced'])} \n",
    "    \n",
    "features_train = features_train.text    \n",
    "    \n",
    "grid_LR = GridSearchCV(pipeline, parameters, scoring = 'f1', cv = 3).fit(features_train, target_train)\n",
    "\n",
    "means_lr = grid_LR.cv_results_['mean_test_score']\n",
    "f1_lr_cv = max(means_lr)\n",
    "\n",
    "print('F1 cv:', round(f1_lr_cv, 4))\n",
    "print('best params:', grid_LR.best_params_)\n",
    "print()\n",
    "\n",
    "# 22 мин"
   ]
  },
  {
   "cell_type": "code",
   "execution_count": null,
   "metadata": {},
   "outputs": [],
   "source": [
    "#classificator = LogisticRegression()\n",
    "# model_LR.set_params(**best_param_LR).fit(features_train, target_train)\n",
    "# pred_LR = model_LR.predict(features_valid)\n",
    "# f1_LR_val = f1_score(target_valid, pred_LR)\n",
    "# print('F1 на cv', f1_LR_cv)\n",
    "# print('F1 на валидации', f1_LR_val)"
   ]
  },
  {
   "cell_type": "markdown",
   "metadata": {},
   "source": [
    "### Decision Tree Classifier"
   ]
  },
  {
   "cell_type": "code",
   "execution_count": null,
   "metadata": {},
   "outputs": [],
   "source": [
    "# %%time\n",
    "\n",
    "# model_DTC = DecisionTreeClassifier()\n",
    "# param_DTC = [{'max_depth':[x for x in range(50, 100, 2)], 'random_state':[777]}]\n",
    "# grid_DTC = GridSearchCV(model_DTC, param_DTC, scoring = 'f1',cv = 3).fit(features_train, target_train)\n",
    "# print(\"Best parameters set found on development set:\")\n",
    "# print()\n",
    "# best_param_DTC = grid_DTC.best_params_\n",
    "# print(best_param_DTC)\n",
    "# print()\n",
    "# print(\"Grid scores on development set:\")\n",
    "# print()\n",
    "# means = grid_DTC.cv_results_['mean_test_score']\n",
    "# stds = grid_DTC.cv_results_['std_test_score']\n",
    "# for mean, std, params in zip(means, stds, grid_DTC.cv_results_['params']):\n",
    "#     print(\"%0.6f for %r\"% (mean, params))\n",
    "# print()\n",
    "\n",
    "# f1_DTC_cv = max(means)\n",
    "\n",
    "# этот блок с кодом будет грузиться долго - мин 15-20, но он работает"
   ]
  },
  {
   "cell_type": "code",
   "execution_count": null,
   "metadata": {},
   "outputs": [],
   "source": [
    "# %%time\n",
    "\n",
    "# model_DTC = DecisionTreeClassifier()\n",
    "# model_DTC.set_params(**best_param_DTC).fit(features_train, target_train)\n",
    "# predict_DTC_val = model_DTC.predict(features_valid)\n",
    "# f1_DTC_val = f1_score(target_valid, predict_DTC_val)\n",
    "# print('F1 на cv', f1_DTC_cv)\n",
    "# print('F1 на валидации', f1_DTC_val)"
   ]
  },
  {
   "cell_type": "code",
   "execution_count": null,
   "metadata": {},
   "outputs": [],
   "source": [
    "%%time\n",
    "\n",
    "pipeline = Pipeline([('vect', TfidfVectorizer(stop_words='english')), \n",
    "                     ('dtc', DecisionTreeClassifier())])\n",
    "    \n",
    "parameters = {'dtc__max_depth': ([x for x in range(1, 25)]),\n",
    "              'dtc__random_state': ([777]), \n",
    "              'dtc__class_weight': (['balanced'])}\n",
    "\n",
    "grid_DTC = GridSearchCV(pipeline, parameters, scoring= 'f1', cv = 3).fit(features_train, target_train)\n",
    "\n",
    "means_dtc = grid_DTC.cv_results_['mean_test_score']\n",
    "f1_dtc_cv = max(means_dtc)\n",
    "\n",
    "print('F1 cv:', round(f1_dtc_cv, 4))\n",
    "print('best params:', grid_DTC.best_params_)\n",
    "print()\n",
    "\n",
    "# 13 мин"
   ]
  },
  {
   "cell_type": "markdown",
   "metadata": {},
   "source": [
    "### CatBoostClassifier"
   ]
  },
  {
   "cell_type": "code",
   "execution_count": null,
   "metadata": {},
   "outputs": [],
   "source": [
    "# %%time\n",
    "\n",
    "# model_CBC = CatBoostClassifier(verbose = False, iterations = 100).fit(features_train, target_train)\n",
    "# predict_CBC_val = model_CBC.predict(features_valid)\n",
    "# f1_CBC_cv = cross_val_score(model_CBC, features_train, target_train, cv = 3, scoring = 'f1').mean()\n",
    "# f1_CBC_val = f1_score(target_valid, predict_CBC_val)\n",
    "# print('F1 на cv', f1_CBC_cv)\n",
    "# print('F1 на валидации', f1_CBC_val)\n",
    "\n",
    "# 10 мин"
   ]
  },
  {
   "cell_type": "code",
   "execution_count": null,
   "metadata": {},
   "outputs": [],
   "source": [
    "%%time\n",
    "\n",
    "pipeline = Pipeline([('vect', TfidfVectorizer(stop_words='english')), \n",
    "                     ('cbc', CatBoostClassifier())])\n",
    "    \n",
    "parameters = {'cbc__verbose': ([False]),\n",
    "              'cbc__iterations': ([100]),\n",
    "              'cbc__random_state': ([777]),\n",
    "              'cbc__class_weights':([(1, 1), (1, 11)])}\n",
    "\n",
    "grid_CBC = GridSearchCV(pipeline, parameters, scoring= 'f1', cv = 3).fit(features_train, target_train)\n",
    "\n",
    "means_cbc = grid_CBC.cv_results_['mean_test_score']\n",
    "f1_cbc_cv = max(means_cbc)\n",
    "\n",
    "print('F1 cv =', round(f1_cbc_cv, 4))\n",
    "print('best params:', grid_CBC.best_params_)\n",
    "\n",
    "# 28 мин"
   ]
  },
  {
   "cell_type": "markdown",
   "metadata": {},
   "source": [
    "**Промежуточный результат**"
   ]
  },
  {
   "cell_type": "code",
   "execution_count": null,
   "metadata": {},
   "outputs": [],
   "source": [
    "index = ['Logistic Regression',\n",
    "         'Decision Tree',\n",
    "         'CatBoost']\n",
    "data = {'F1 cv':[f1_lr_cv, f1_dtc_cv, f1_cbc_cv]}\n",
    "\n",
    "result = pd.DataFrame(data = data, index = index)\n",
    "result['Выполнение задачи'] = result['F1 cv'] >= 0.75\n",
    "result"
   ]
  },
  {
   "cell_type": "markdown",
   "metadata": {},
   "source": [
    "**Модель логистической регрессии показала наилучший результат**"
   ]
  },
  {
   "cell_type": "markdown",
   "metadata": {},
   "source": [
    "## Выводы"
   ]
  },
  {
   "cell_type": "code",
   "execution_count": null,
   "metadata": {},
   "outputs": [],
   "source": [
    "# model_LR = LogisticRegression().set_params(**best_param_LR).fit(features_train, target_train)\n",
    "# pred_LR_test = model_LR.predict(features_test)\n",
    "# print('F1 test:', f1_score(target_test, pred_LR_test))"
   ]
  },
  {
   "cell_type": "code",
   "execution_count": null,
   "metadata": {},
   "outputs": [],
   "source": [
    "pred_lr_test = grid_LR.predict(features_test.text)\n",
    "f1_lr_test = f1_score(target_test, pred_lr_test)\n",
    "print('F1 LR test:', round(f1_lr_test, 4))"
   ]
  },
  {
   "cell_type": "code",
   "execution_count": null,
   "metadata": {},
   "outputs": [],
   "source": [
    "plt.figure(figsize=[12, 9])\n",
    "\n",
    "plt.plot([0, 1], [0, 1], linestyle = '--', label = 'RandomModel')\n",
    "\n",
    "prob_lr_test = grid_LR.predict_proba(features_test.text)[:, 1]\n",
    "fpr, tpr, thresholds = roc_curve(target_test, prob_lr_test)\n",
    "\n",
    "plt.plot(fpr, tpr, label = 'LogisticRegression')\n",
    "print('Метрики LogisticRegression:')\n",
    "print()\n",
    "print('ROC AUC:', roc_auc_score(target_test, prob_lr_test))\n",
    "print('F1:', f1_score(target_test, pred_lr_test))\n",
    "print('Precision:', precision_score(target_test, pred_lr_test))\n",
    "print('Recall:', recall_score(target_test, pred_lr_test))\n",
    "print('Accuracy:', accuracy_score(target_test, pred_lr_test))\n",
    "\n",
    "plt.xlim([0,1])\n",
    "plt.ylim([0,1])\n",
    "\n",
    "plt.xlabel('False Positive Rate')\n",
    "plt.ylabel('True Positive Rate')\n",
    "\n",
    "plt.legend(loc = 'lower right', fontsize = 'x-large')\n",
    "\n",
    "plt.title('ROC-кривая')\n",
    "plt.show()"
   ]
  },
  {
   "cell_type": "markdown",
   "metadata": {},
   "source": [
    "Создали три модели, способные осуществлять модерацию комментариев (задача классификации) - логистическая регрессия, дерево решений и CatBoost. \n",
    "\n",
    "Данные разбили на две выборки - тренировочную и тестовую.\n",
    "\n",
    "Метрика оценивания качества - F1-мера, сочетающая в себе Accuracy и Recall. По условию задачу значение данной метрики должно составить не менее 0.75.\n",
    "\n",
    "F1 составило: 0.75... для модели Logistic Regression, 0.6353 для Decision Tree Classifier и 0.7385 для CatBoost Classifier. Таким образом, согласно условию задачи, нам подходит модель логистической регрессии, которую мы посмотрели на тестовой выборке - значение F1 составило 0.7563.\n",
    "\n",
    "Логистическая регрессия показала наилучший результат (>0.75), следовательно, для данной задачи выбираем эту модель."
   ]
  },
  {
   "cell_type": "markdown",
   "metadata": {},
   "source": [
    "## Чек-лист проверки"
   ]
  },
  {
   "cell_type": "markdown",
   "metadata": {},
   "source": [
    "- [x]  Jupyter Notebook открыт\n",
    "- [x]  Весь код выполняется без ошибок\n",
    "- [x]  Ячейки с кодом расположены в порядке исполнения\n",
    "- [x]  Данные загружены и подготовлены\n",
    "- [x]  Модели обучены\n",
    "- [x]  Значение метрики *F1* не меньше 0.75\n",
    "- [x]  Выводы написаны"
   ]
  }
 ],
 "metadata": {
  "ExecuteTimeLog": [
   {
    "duration": 2689,
    "start_time": "2023-07-25T09:33:28.923Z"
   },
   {
    "duration": 2392,
    "start_time": "2023-07-25T09:33:31.614Z"
   },
   {
    "duration": 35,
    "start_time": "2023-07-25T09:33:34.009Z"
   },
   {
    "duration": 15,
    "start_time": "2023-07-25T09:33:34.051Z"
   },
   {
    "duration": 18,
    "start_time": "2023-07-25T09:33:34.067Z"
   },
   {
    "duration": 4113,
    "start_time": "2023-07-25T09:33:34.087Z"
   },
   {
    "duration": 88838,
    "start_time": "2023-07-25T09:33:38.202Z"
   },
   {
    "duration": 19,
    "start_time": "2023-07-25T09:35:07.042Z"
   },
   {
    "duration": 45,
    "start_time": "2023-07-25T09:35:07.063Z"
   },
   {
    "duration": 12,
    "start_time": "2023-07-25T09:35:07.112Z"
   },
   {
    "duration": 171,
    "start_time": "2023-07-25T09:35:07.127Z"
   },
   {
    "duration": 6396,
    "start_time": "2023-07-25T09:35:07.300Z"
   },
   {
    "duration": 1531,
    "start_time": "2023-07-25T09:35:13.698Z"
   },
   {
    "duration": 204422,
    "start_time": "2023-07-25T09:35:15.230Z"
   },
   {
    "duration": 145,
    "start_time": "2023-07-25T09:39:35.276Z"
   },
   {
    "duration": 74,
    "start_time": "2023-07-25T09:39:35.424Z"
   },
   {
    "duration": 61,
    "start_time": "2023-07-25T09:39:35.500Z"
   },
   {
    "duration": 9,
    "start_time": "2023-07-25T09:39:35.563Z"
   },
   {
    "duration": 0,
    "start_time": "2023-07-25T09:39:35.573Z"
   },
   {
    "duration": 8,
    "start_time": "2023-07-25T09:47:09.362Z"
   },
   {
    "duration": 1991,
    "start_time": "2023-07-25T09:47:14.266Z"
   },
   {
    "duration": 2548,
    "start_time": "2023-07-25T09:47:16.259Z"
   },
   {
    "duration": 43,
    "start_time": "2023-07-25T09:47:18.810Z"
   },
   {
    "duration": 19,
    "start_time": "2023-07-25T09:47:18.856Z"
   },
   {
    "duration": 6,
    "start_time": "2023-07-25T09:47:18.877Z"
   },
   {
    "duration": 4153,
    "start_time": "2023-07-25T09:47:18.884Z"
   },
   {
    "duration": 89705,
    "start_time": "2023-07-25T09:47:23.039Z"
   },
   {
    "duration": 17,
    "start_time": "2023-07-25T09:48:52.746Z"
   },
   {
    "duration": 32,
    "start_time": "2023-07-25T09:48:52.765Z"
   },
   {
    "duration": 3,
    "start_time": "2023-07-25T09:48:52.801Z"
   },
   {
    "duration": 50,
    "start_time": "2023-07-25T09:48:52.806Z"
   },
   {
    "duration": 6471,
    "start_time": "2023-07-25T09:48:52.858Z"
   },
   {
    "duration": 1460,
    "start_time": "2023-07-25T09:48:59.332Z"
   },
   {
    "duration": 214966,
    "start_time": "2023-07-25T09:49:00.794Z"
   },
   {
    "duration": 196,
    "start_time": "2023-07-25T09:57:51.042Z"
   },
   {
    "duration": 7,
    "start_time": "2023-07-25T11:01:35.823Z"
   },
   {
    "duration": 1913,
    "start_time": "2023-07-25T11:01:41.501Z"
   },
   {
    "duration": 2384,
    "start_time": "2023-07-25T11:01:47.656Z"
   },
   {
    "duration": 32,
    "start_time": "2023-07-25T11:01:56.635Z"
   },
   {
    "duration": 6,
    "start_time": "2023-07-25T11:01:57.831Z"
   },
   {
    "duration": 4,
    "start_time": "2023-07-25T11:02:26.898Z"
   },
   {
    "duration": 3914,
    "start_time": "2023-07-25T11:05:43.053Z"
   },
   {
    "duration": 83156,
    "start_time": "2023-07-25T11:05:57.090Z"
   },
   {
    "duration": 8,
    "start_time": "2023-07-25T11:08:09.840Z"
   },
   {
    "duration": 829,
    "start_time": "2023-07-25T11:08:12.510Z"
   },
   {
    "duration": 35,
    "start_time": "2023-07-25T11:08:15.099Z"
   },
   {
    "duration": 7,
    "start_time": "2023-07-25T11:08:18.245Z"
   },
   {
    "duration": 4,
    "start_time": "2023-07-25T11:08:21.465Z"
   },
   {
    "duration": 4014,
    "start_time": "2023-07-25T11:08:22.826Z"
   },
   {
    "duration": 95582,
    "start_time": "2023-07-25T11:08:29.622Z"
   },
   {
    "duration": 18,
    "start_time": "2023-07-25T11:11:40.580Z"
   },
   {
    "duration": 39,
    "start_time": "2023-07-25T11:17:34.169Z"
   },
   {
    "duration": 3,
    "start_time": "2023-07-25T11:17:37.813Z"
   },
   {
    "duration": 33,
    "start_time": "2023-07-25T11:18:04.566Z"
   },
   {
    "duration": 7619,
    "start_time": "2023-07-25T11:27:44.092Z"
   },
   {
    "duration": 146,
    "start_time": "2023-07-25T11:28:42.693Z"
   },
   {
    "duration": 24,
    "start_time": "2023-07-25T11:29:07.908Z"
   },
   {
    "duration": 12,
    "start_time": "2023-07-25T11:29:25.932Z"
   },
   {
    "duration": 1052,
    "start_time": "2023-07-25T11:29:25.947Z"
   },
   {
    "duration": 47,
    "start_time": "2023-07-25T11:29:27.005Z"
   },
   {
    "duration": 8,
    "start_time": "2023-07-25T11:29:27.055Z"
   },
   {
    "duration": 6,
    "start_time": "2023-07-25T11:29:27.066Z"
   },
   {
    "duration": 4912,
    "start_time": "2023-07-25T11:29:27.074Z"
   },
   {
    "duration": 106172,
    "start_time": "2023-07-25T11:29:31.988Z"
   },
   {
    "duration": 21,
    "start_time": "2023-07-25T11:31:18.162Z"
   },
   {
    "duration": 65,
    "start_time": "2023-07-25T11:31:18.185Z"
   },
   {
    "duration": 20,
    "start_time": "2023-07-25T11:31:18.253Z"
   },
   {
    "duration": 97,
    "start_time": "2023-07-25T11:31:18.275Z"
   },
   {
    "duration": 8836,
    "start_time": "2023-07-25T11:31:31.072Z"
   },
   {
    "duration": 223648,
    "start_time": "2023-07-25T11:35:27.311Z"
   },
   {
    "duration": 109,
    "start_time": "2023-07-25T11:58:37.706Z"
   },
   {
    "duration": 101,
    "start_time": "2023-07-25T11:59:26.419Z"
   },
   {
    "duration": 375964,
    "start_time": "2023-07-25T11:59:43.117Z"
   },
   {
    "duration": 259,
    "start_time": "2023-07-25T12:08:35.726Z"
   },
   {
    "duration": 11,
    "start_time": "2023-07-25T12:09:13.621Z"
   },
   {
    "duration": 329781,
    "start_time": "2023-07-25T12:09:20.406Z"
   },
   {
    "duration": 328827,
    "start_time": "2023-07-25T12:15:05.655Z"
   },
   {
    "duration": 904443,
    "start_time": "2023-07-25T12:20:59.902Z"
   },
   {
    "duration": 242,
    "start_time": "2023-07-25T13:17:08.857Z"
   },
   {
    "duration": 1966,
    "start_time": "2023-07-25T13:26:15.306Z"
   },
   {
    "duration": 2522,
    "start_time": "2023-07-25T13:26:17.274Z"
   },
   {
    "duration": 36,
    "start_time": "2023-07-25T13:26:19.798Z"
   },
   {
    "duration": 11,
    "start_time": "2023-07-25T13:26:19.836Z"
   },
   {
    "duration": 4,
    "start_time": "2023-07-25T13:26:19.851Z"
   },
   {
    "duration": 3950,
    "start_time": "2023-07-25T13:26:19.857Z"
   },
   {
    "duration": 84385,
    "start_time": "2023-07-25T13:26:23.809Z"
   },
   {
    "duration": 15,
    "start_time": "2023-07-25T13:27:48.196Z"
   },
   {
    "duration": 72,
    "start_time": "2023-07-25T13:27:48.213Z"
   },
   {
    "duration": 4,
    "start_time": "2023-07-25T13:27:48.288Z"
   },
   {
    "duration": 33,
    "start_time": "2023-07-25T13:27:48.296Z"
   },
   {
    "duration": 7570,
    "start_time": "2023-07-25T13:27:48.331Z"
   },
   {
    "duration": 198258,
    "start_time": "2023-07-25T13:27:55.903Z"
   },
   {
    "duration": 3,
    "start_time": "2023-07-25T13:31:14.164Z"
   },
   {
    "duration": 157,
    "start_time": "2023-07-25T13:31:14.171Z"
   },
   {
    "duration": 0,
    "start_time": "2023-07-25T13:39:58.369Z"
   },
   {
    "duration": 0,
    "start_time": "2023-07-25T13:39:58.370Z"
   },
   {
    "duration": 0,
    "start_time": "2023-07-25T13:39:58.371Z"
   },
   {
    "duration": 0,
    "start_time": "2023-07-25T13:39:58.373Z"
   },
   {
    "duration": 0,
    "start_time": "2023-07-25T13:39:58.375Z"
   },
   {
    "duration": 0,
    "start_time": "2023-07-25T13:39:58.377Z"
   },
   {
    "duration": 0,
    "start_time": "2023-07-25T13:39:58.378Z"
   },
   {
    "duration": 0,
    "start_time": "2023-07-25T13:39:58.380Z"
   },
   {
    "duration": 0,
    "start_time": "2023-07-25T13:39:58.382Z"
   },
   {
    "duration": 0,
    "start_time": "2023-07-25T13:39:58.384Z"
   },
   {
    "duration": 0,
    "start_time": "2023-07-25T13:39:58.385Z"
   },
   {
    "duration": 0,
    "start_time": "2023-07-25T13:39:58.388Z"
   },
   {
    "duration": 0,
    "start_time": "2023-07-25T13:39:58.390Z"
   },
   {
    "duration": 0,
    "start_time": "2023-07-25T13:39:58.391Z"
   },
   {
    "duration": 0,
    "start_time": "2023-07-25T13:39:58.393Z"
   },
   {
    "duration": 0,
    "start_time": "2023-07-25T13:39:58.454Z"
   },
   {
    "duration": 0,
    "start_time": "2023-07-25T13:39:58.455Z"
   },
   {
    "duration": 0,
    "start_time": "2023-07-25T13:39:58.457Z"
   },
   {
    "duration": 0,
    "start_time": "2023-07-25T13:39:58.459Z"
   },
   {
    "duration": 10,
    "start_time": "2023-07-25T13:40:02.644Z"
   },
   {
    "duration": 11,
    "start_time": "2023-07-25T13:40:07.337Z"
   },
   {
    "duration": 9,
    "start_time": "2023-07-25T13:40:14.037Z"
   },
   {
    "duration": 844,
    "start_time": "2023-07-25T13:40:14.049Z"
   },
   {
    "duration": 36,
    "start_time": "2023-07-25T13:40:14.895Z"
   },
   {
    "duration": 21,
    "start_time": "2023-07-25T13:40:14.933Z"
   },
   {
    "duration": 4,
    "start_time": "2023-07-25T13:40:14.956Z"
   },
   {
    "duration": 4084,
    "start_time": "2023-07-25T13:40:14.962Z"
   },
   {
    "duration": 86307,
    "start_time": "2023-07-25T13:40:19.048Z"
   },
   {
    "duration": 24,
    "start_time": "2023-07-25T13:41:45.362Z"
   },
   {
    "duration": 47,
    "start_time": "2023-07-25T13:41:45.388Z"
   },
   {
    "duration": 3,
    "start_time": "2023-07-25T13:41:45.438Z"
   },
   {
    "duration": 47,
    "start_time": "2023-07-25T13:41:45.443Z"
   },
   {
    "duration": 7558,
    "start_time": "2023-07-25T13:41:45.492Z"
   },
   {
    "duration": 200106,
    "start_time": "2023-07-25T13:41:53.053Z"
   },
   {
    "duration": 3,
    "start_time": "2023-07-25T13:45:13.163Z"
   },
   {
    "duration": 210,
    "start_time": "2023-07-25T13:45:13.168Z"
   },
   {
    "duration": 2004,
    "start_time": "2023-07-25T23:18:35.246Z"
   },
   {
    "duration": 2393,
    "start_time": "2023-07-25T23:18:37.252Z"
   },
   {
    "duration": 29,
    "start_time": "2023-07-25T23:18:39.647Z"
   },
   {
    "duration": 8,
    "start_time": "2023-07-25T23:18:39.679Z"
   },
   {
    "duration": 12,
    "start_time": "2023-07-25T23:18:39.689Z"
   },
   {
    "duration": 3735,
    "start_time": "2023-07-25T23:18:39.702Z"
   },
   {
    "duration": 77368,
    "start_time": "2023-07-25T23:18:43.440Z"
   },
   {
    "duration": 12,
    "start_time": "2023-07-25T23:20:00.809Z"
   },
   {
    "duration": 72,
    "start_time": "2023-07-25T23:20:00.823Z"
   },
   {
    "duration": 23,
    "start_time": "2023-07-25T23:20:00.898Z"
   },
   {
    "duration": 51,
    "start_time": "2023-07-25T23:20:00.922Z"
   },
   {
    "duration": 5225,
    "start_time": "2023-07-25T23:20:00.974Z"
   },
   {
    "duration": 326,
    "start_time": "2023-07-25T23:20:06.201Z"
   },
   {
    "duration": 11,
    "start_time": "2023-07-25T23:20:06.528Z"
   },
   {
    "duration": 0,
    "start_time": "2023-07-25T23:20:06.541Z"
   },
   {
    "duration": 0,
    "start_time": "2023-07-25T23:20:06.542Z"
   },
   {
    "duration": 0,
    "start_time": "2023-07-25T23:20:06.543Z"
   },
   {
    "duration": 0,
    "start_time": "2023-07-25T23:20:06.543Z"
   },
   {
    "duration": 0,
    "start_time": "2023-07-25T23:20:06.544Z"
   },
   {
    "duration": 6626,
    "start_time": "2023-07-25T23:24:44.421Z"
   },
   {
    "duration": 7,
    "start_time": "2023-07-25T23:24:55.458Z"
   },
   {
    "duration": 904,
    "start_time": "2023-07-25T23:24:55.467Z"
   },
   {
    "duration": 31,
    "start_time": "2023-07-25T23:24:56.373Z"
   },
   {
    "duration": 6,
    "start_time": "2023-07-25T23:24:56.406Z"
   },
   {
    "duration": 15,
    "start_time": "2023-07-25T23:24:56.413Z"
   },
   {
    "duration": 3662,
    "start_time": "2023-07-25T23:24:56.430Z"
   },
   {
    "duration": 76935,
    "start_time": "2023-07-25T23:25:00.094Z"
   },
   {
    "duration": 13,
    "start_time": "2023-07-25T23:26:17.031Z"
   },
   {
    "duration": 50,
    "start_time": "2023-07-25T23:26:17.045Z"
   },
   {
    "duration": 4,
    "start_time": "2023-07-25T23:26:17.096Z"
   },
   {
    "duration": 29,
    "start_time": "2023-07-25T23:26:17.101Z"
   },
   {
    "duration": 6259,
    "start_time": "2023-07-25T23:26:17.131Z"
   },
   {
    "duration": 152110,
    "start_time": "2023-07-25T23:26:23.391Z"
   },
   {
    "duration": 15,
    "start_time": "2023-07-25T23:28:55.503Z"
   },
   {
    "duration": 0,
    "start_time": "2023-07-25T23:28:55.600Z"
   },
   {
    "duration": 0,
    "start_time": "2023-07-25T23:28:55.602Z"
   },
   {
    "duration": 0,
    "start_time": "2023-07-25T23:28:55.603Z"
   },
   {
    "duration": 0,
    "start_time": "2023-07-25T23:28:55.605Z"
   },
   {
    "duration": 0,
    "start_time": "2023-07-25T23:28:55.606Z"
   },
   {
    "duration": 1727411,
    "start_time": "2023-07-25T23:29:16.022Z"
   },
   {
    "duration": 38571,
    "start_time": "2023-07-25T23:58:28.916Z"
   },
   {
    "duration": 37723,
    "start_time": "2023-07-25T23:59:23.457Z"
   },
   {
    "duration": 163,
    "start_time": "2023-07-26T00:01:33.236Z"
   },
   {
    "duration": 231792,
    "start_time": "2023-07-26T00:01:55.522Z"
   },
   {
    "duration": 231562,
    "start_time": "2023-07-26T00:07:04.989Z"
   },
   {
    "duration": 122,
    "start_time": "2023-07-26T00:21:43.952Z"
   },
   {
    "duration": 316,
    "start_time": "2023-07-26T00:22:17.851Z"
   },
   {
    "duration": 28,
    "start_time": "2023-07-26T00:33:43.277Z"
   },
   {
    "duration": 44,
    "start_time": "2023-07-26T00:34:09.526Z"
   },
   {
    "duration": 31,
    "start_time": "2023-07-26T00:34:23.618Z"
   },
   {
    "duration": 338,
    "start_time": "2023-07-26T00:34:55.037Z"
   },
   {
    "duration": 1141,
    "start_time": "2023-07-26T00:34:55.378Z"
   },
   {
    "duration": 41,
    "start_time": "2023-07-26T00:34:56.525Z"
   },
   {
    "duration": 26,
    "start_time": "2023-07-26T00:34:56.568Z"
   },
   {
    "duration": 45,
    "start_time": "2023-07-26T00:34:56.596Z"
   },
   {
    "duration": 4820,
    "start_time": "2023-07-26T00:34:56.650Z"
   },
   {
    "duration": 103203,
    "start_time": "2023-07-26T00:35:01.472Z"
   },
   {
    "duration": 11,
    "start_time": "2023-07-26T00:36:44.677Z"
   },
   {
    "duration": 74,
    "start_time": "2023-07-26T00:36:44.690Z"
   },
   {
    "duration": 3,
    "start_time": "2023-07-26T00:36:44.766Z"
   },
   {
    "duration": 51,
    "start_time": "2023-07-26T00:36:44.770Z"
   },
   {
    "duration": 8616,
    "start_time": "2023-07-26T00:36:52.637Z"
   },
   {
    "duration": 9,
    "start_time": "2023-07-26T00:41:43.662Z"
   },
   {
    "duration": 1082,
    "start_time": "2023-07-26T00:41:43.673Z"
   },
   {
    "duration": 26,
    "start_time": "2023-07-26T00:41:44.758Z"
   },
   {
    "duration": 43,
    "start_time": "2023-07-26T00:41:44.786Z"
   },
   {
    "duration": 29,
    "start_time": "2023-07-26T00:41:44.835Z"
   },
   {
    "duration": 101,
    "start_time": "2023-07-26T00:41:44.866Z"
   },
   {
    "duration": 0,
    "start_time": "2023-07-26T00:41:44.969Z"
   },
   {
    "duration": 0,
    "start_time": "2023-07-26T00:41:44.970Z"
   },
   {
    "duration": 0,
    "start_time": "2023-07-26T00:41:44.973Z"
   },
   {
    "duration": 0,
    "start_time": "2023-07-26T00:41:44.974Z"
   },
   {
    "duration": 0,
    "start_time": "2023-07-26T00:41:44.975Z"
   },
   {
    "duration": 7795,
    "start_time": "2023-07-26T00:42:28.946Z"
   },
   {
    "duration": 42,
    "start_time": "2023-07-26T00:42:42.422Z"
   },
   {
    "duration": 8399,
    "start_time": "2023-07-26T00:42:48.250Z"
   },
   {
    "duration": 22,
    "start_time": "2023-07-26T00:43:47.968Z"
   },
   {
    "duration": 23,
    "start_time": "2023-07-26T00:43:57.894Z"
   },
   {
    "duration": 1066,
    "start_time": "2023-07-26T00:43:57.919Z"
   },
   {
    "duration": 59,
    "start_time": "2023-07-26T00:43:58.986Z"
   },
   {
    "duration": 27,
    "start_time": "2023-07-26T00:43:59.055Z"
   },
   {
    "duration": 3,
    "start_time": "2023-07-26T00:43:59.085Z"
   },
   {
    "duration": 7039,
    "start_time": "2023-07-26T00:43:59.090Z"
   },
   {
    "duration": 12,
    "start_time": "2023-07-26T00:44:06.141Z"
   },
   {
    "duration": 22,
    "start_time": "2023-07-26T00:44:06.158Z"
   },
   {
    "duration": 14,
    "start_time": "2023-07-26T00:44:06.182Z"
   },
   {
    "duration": 62,
    "start_time": "2023-07-26T00:44:06.198Z"
   },
   {
    "duration": 34,
    "start_time": "2023-07-26T00:44:06.261Z"
   },
   {
    "duration": 89,
    "start_time": "2023-07-26T00:44:06.299Z"
   },
   {
    "duration": 10,
    "start_time": "2023-07-26T00:44:15.886Z"
   },
   {
    "duration": 79,
    "start_time": "2023-07-26T00:45:43.204Z"
   },
   {
    "duration": 13537,
    "start_time": "2023-07-26T00:45:45.285Z"
   },
   {
    "duration": 39,
    "start_time": "2023-07-26T00:47:41.053Z"
   },
   {
    "duration": 13351,
    "start_time": "2023-07-26T00:47:43.430Z"
   },
   {
    "duration": 48,
    "start_time": "2023-07-26T00:49:58.063Z"
   },
   {
    "duration": 14066,
    "start_time": "2023-07-26T00:49:59.816Z"
   },
   {
    "duration": 67,
    "start_time": "2023-07-26T00:53:10.574Z"
   },
   {
    "duration": 12095,
    "start_time": "2023-07-26T00:53:12.130Z"
   },
   {
    "duration": 185961,
    "start_time": "2023-07-26T00:53:30.552Z"
   },
   {
    "duration": 173,
    "start_time": "2023-07-26T00:56:53.242Z"
   },
   {
    "duration": 253526,
    "start_time": "2023-07-26T00:57:56.458Z"
   },
   {
    "duration": 32,
    "start_time": "2023-07-26T01:04:24.924Z"
   },
   {
    "duration": 10,
    "start_time": "2023-07-26T01:04:31.952Z"
   },
   {
    "duration": 1104,
    "start_time": "2023-07-26T01:04:31.965Z"
   },
   {
    "duration": 55,
    "start_time": "2023-07-26T01:04:33.071Z"
   },
   {
    "duration": 59,
    "start_time": "2023-07-26T01:04:33.128Z"
   },
   {
    "duration": 15,
    "start_time": "2023-07-26T01:04:33.190Z"
   },
   {
    "duration": 8410,
    "start_time": "2023-07-26T01:04:33.206Z"
   },
   {
    "duration": 2,
    "start_time": "2023-07-26T01:04:41.618Z"
   },
   {
    "duration": 53,
    "start_time": "2023-07-26T01:04:41.621Z"
   },
   {
    "duration": 4,
    "start_time": "2023-07-26T01:04:41.676Z"
   },
   {
    "duration": 6,
    "start_time": "2023-07-26T01:04:41.681Z"
   },
   {
    "duration": 40,
    "start_time": "2023-07-26T01:04:41.688Z"
   },
   {
    "duration": 101,
    "start_time": "2023-07-26T01:04:41.729Z"
   },
   {
    "duration": 14113,
    "start_time": "2023-07-26T01:04:47.840Z"
   },
   {
    "duration": 7,
    "start_time": "2023-07-26T01:09:37.867Z"
   },
   {
    "duration": 1007,
    "start_time": "2023-07-26T01:09:37.876Z"
   },
   {
    "duration": 57,
    "start_time": "2023-07-26T01:09:38.884Z"
   },
   {
    "duration": 13,
    "start_time": "2023-07-26T01:09:38.942Z"
   },
   {
    "duration": 4,
    "start_time": "2023-07-26T01:09:38.957Z"
   },
   {
    "duration": 6838,
    "start_time": "2023-07-26T01:09:38.963Z"
   },
   {
    "duration": 12,
    "start_time": "2023-07-26T01:09:45.812Z"
   },
   {
    "duration": 41,
    "start_time": "2023-07-26T01:09:45.828Z"
   },
   {
    "duration": 22,
    "start_time": "2023-07-26T01:09:45.870Z"
   },
   {
    "duration": 65,
    "start_time": "2023-07-26T01:09:45.893Z"
   },
   {
    "duration": 19,
    "start_time": "2023-07-26T01:09:45.960Z"
   },
   {
    "duration": 109,
    "start_time": "2023-07-26T01:09:45.981Z"
   },
   {
    "duration": 13497,
    "start_time": "2023-07-26T01:09:49.945Z"
   },
   {
    "duration": 691,
    "start_time": "2023-07-26T01:12:24.777Z"
   },
   {
    "duration": 1015,
    "start_time": "2023-07-26T01:12:25.471Z"
   },
   {
    "duration": 53,
    "start_time": "2023-07-26T01:12:26.488Z"
   },
   {
    "duration": 28,
    "start_time": "2023-07-26T01:12:26.543Z"
   },
   {
    "duration": 10,
    "start_time": "2023-07-26T01:12:26.573Z"
   },
   {
    "duration": 7882,
    "start_time": "2023-07-26T01:12:26.586Z"
   },
   {
    "duration": 13592,
    "start_time": "2023-07-26T01:12:46.360Z"
   },
   {
    "duration": 11,
    "start_time": "2023-07-26T01:15:24.928Z"
   },
   {
    "duration": 948,
    "start_time": "2023-07-26T01:15:24.940Z"
   },
   {
    "duration": 42,
    "start_time": "2023-07-26T01:15:25.889Z"
   },
   {
    "duration": 30,
    "start_time": "2023-07-26T01:15:25.933Z"
   },
   {
    "duration": 27,
    "start_time": "2023-07-26T01:15:25.966Z"
   },
   {
    "duration": 6789,
    "start_time": "2023-07-26T01:15:25.995Z"
   },
   {
    "duration": 1418,
    "start_time": "2023-07-26T01:15:46.779Z"
   },
   {
    "duration": 5,
    "start_time": "2023-07-26T01:15:51.661Z"
   },
   {
    "duration": 1008,
    "start_time": "2023-07-26T01:15:51.668Z"
   },
   {
    "duration": 50,
    "start_time": "2023-07-26T01:15:52.679Z"
   },
   {
    "duration": 17,
    "start_time": "2023-07-26T01:15:52.738Z"
   },
   {
    "duration": 12,
    "start_time": "2023-07-26T01:15:52.757Z"
   },
   {
    "duration": 12387,
    "start_time": "2023-07-26T01:15:59.638Z"
   },
   {
    "duration": 10,
    "start_time": "2023-07-26T01:16:12.034Z"
   },
   {
    "duration": 23,
    "start_time": "2023-07-26T01:16:12.046Z"
   },
   {
    "duration": 12,
    "start_time": "2023-07-26T01:16:12.072Z"
   },
   {
    "duration": 9,
    "start_time": "2023-07-26T01:16:12.086Z"
   },
   {
    "duration": 58,
    "start_time": "2023-07-26T01:16:12.097Z"
   },
   {
    "duration": 62,
    "start_time": "2023-07-26T01:16:12.157Z"
   },
   {
    "duration": 17,
    "start_time": "2023-07-26T01:16:12.230Z"
   },
   {
    "duration": 0,
    "start_time": "2023-07-26T01:16:12.249Z"
   },
   {
    "duration": 0,
    "start_time": "2023-07-26T01:16:12.250Z"
   },
   {
    "duration": 0,
    "start_time": "2023-07-26T01:16:12.252Z"
   },
   {
    "duration": 0,
    "start_time": "2023-07-26T01:16:12.255Z"
   },
   {
    "duration": 0,
    "start_time": "2023-07-26T01:16:12.256Z"
   },
   {
    "duration": 0,
    "start_time": "2023-07-26T01:16:12.257Z"
   },
   {
    "duration": 0,
    "start_time": "2023-07-26T01:16:12.258Z"
   },
   {
    "duration": 0,
    "start_time": "2023-07-26T01:16:12.260Z"
   },
   {
    "duration": 0,
    "start_time": "2023-07-26T01:16:12.261Z"
   },
   {
    "duration": 5,
    "start_time": "2023-07-26T01:16:23.338Z"
   },
   {
    "duration": 929,
    "start_time": "2023-07-26T01:16:23.345Z"
   },
   {
    "duration": 44,
    "start_time": "2023-07-26T01:16:24.276Z"
   },
   {
    "duration": 9,
    "start_time": "2023-07-26T01:16:24.335Z"
   },
   {
    "duration": 9,
    "start_time": "2023-07-26T01:16:24.347Z"
   },
   {
    "duration": 6906,
    "start_time": "2023-07-26T01:16:24.358Z"
   },
   {
    "duration": 12998,
    "start_time": "2023-07-26T01:16:32.997Z"
   },
   {
    "duration": 179480,
    "start_time": "2023-07-26T01:17:54.630Z"
   },
   {
    "duration": 9,
    "start_time": "2023-07-26T01:21:46.535Z"
   },
   {
    "duration": 10,
    "start_time": "2023-07-26T01:22:06.056Z"
   },
   {
    "duration": 109,
    "start_time": "2023-07-26T01:22:21.758Z"
   },
   {
    "duration": 629733,
    "start_time": "2023-07-26T01:22:35.535Z"
   },
   {
    "duration": 6,
    "start_time": "2023-07-26T02:57:40.264Z"
   },
   {
    "duration": 1494684,
    "start_time": "2023-07-26T02:58:27.731Z"
   },
   {
    "duration": 106,
    "start_time": "2023-07-26T03:25:01.244Z"
   },
   {
    "duration": 30935,
    "start_time": "2023-07-26T03:45:09.610Z"
   },
   {
    "duration": 30642,
    "start_time": "2023-07-26T03:46:23.742Z"
   },
   {
    "duration": 174302,
    "start_time": "2023-07-26T03:57:36.626Z"
   },
   {
    "duration": 175681,
    "start_time": "2023-07-26T04:04:08.465Z"
   },
   {
    "duration": 17,
    "start_time": "2023-07-26T04:11:33.597Z"
   },
   {
    "duration": 42498,
    "start_time": "2023-07-26T04:11:43.160Z"
   },
   {
    "duration": 45827,
    "start_time": "2023-07-26T04:12:40.502Z"
   },
   {
    "duration": 43,
    "start_time": "2023-07-26T04:24:17.392Z"
   },
   {
    "duration": 10,
    "start_time": "2023-07-26T04:24:37.060Z"
   },
   {
    "duration": 23,
    "start_time": "2023-07-26T04:24:56.026Z"
   },
   {
    "duration": 5505,
    "start_time": "2023-07-26T04:25:38.939Z"
   },
   {
    "duration": 9,
    "start_time": "2023-07-26T04:26:17.647Z"
   },
   {
    "duration": 559,
    "start_time": "2023-07-26T04:26:36.330Z"
   },
   {
    "duration": 46342,
    "start_time": "2023-07-26T04:32:04.819Z"
   },
   {
    "duration": 46545,
    "start_time": "2023-07-26T04:33:10.392Z"
   },
   {
    "duration": 43856,
    "start_time": "2023-07-26T04:33:59.878Z"
   },
   {
    "duration": 4,
    "start_time": "2023-07-26T04:39:44.068Z"
   },
   {
    "duration": 3582,
    "start_time": "2023-07-26T04:39:44.074Z"
   },
   {
    "duration": 27,
    "start_time": "2023-07-26T04:39:47.658Z"
   },
   {
    "duration": 6,
    "start_time": "2023-07-26T04:39:47.687Z"
   },
   {
    "duration": 3,
    "start_time": "2023-07-26T04:39:47.694Z"
   },
   {
    "duration": 7089,
    "start_time": "2023-07-26T04:39:47.698Z"
   },
   {
    "duration": 1963,
    "start_time": "2023-07-26T04:40:14.425Z"
   },
   {
    "duration": 3163,
    "start_time": "2023-07-26T04:40:16.391Z"
   },
   {
    "duration": 27,
    "start_time": "2023-07-26T04:40:19.555Z"
   },
   {
    "duration": 6,
    "start_time": "2023-07-26T04:40:19.583Z"
   },
   {
    "duration": 7698,
    "start_time": "2023-07-26T04:40:19.590Z"
   },
   {
    "duration": 12790,
    "start_time": "2023-07-26T04:40:27.289Z"
   },
   {
    "duration": 176527,
    "start_time": "2023-07-26T04:40:40.080Z"
   },
   {
    "duration": 47941,
    "start_time": "2023-07-26T04:43:36.611Z"
   },
   {
    "duration": 1428827,
    "start_time": "2023-07-26T04:44:24.553Z"
   },
   {
    "duration": 33265,
    "start_time": "2023-07-26T05:08:13.383Z"
   },
   {
    "duration": 647495,
    "start_time": "2023-07-26T05:08:46.653Z"
   },
   {
    "duration": 15,
    "start_time": "2023-07-26T05:19:34.149Z"
   },
   {
    "duration": 43687,
    "start_time": "2023-07-26T05:19:34.166Z"
   },
   {
    "duration": 2329,
    "start_time": "2023-07-27T03:22:24.098Z"
   },
   {
    "duration": 2593,
    "start_time": "2023-07-27T03:22:26.430Z"
   },
   {
    "duration": 884,
    "start_time": "2023-07-27T03:26:24.562Z"
   },
   {
    "duration": 860,
    "start_time": "2023-07-27T03:26:34.726Z"
   },
   {
    "duration": 921,
    "start_time": "2023-07-27T03:26:44.084Z"
   },
   {
    "duration": 5044,
    "start_time": "2023-07-27T05:24:29.456Z"
   },
   {
    "duration": 2290,
    "start_time": "2023-07-27T05:24:41.552Z"
   },
   {
    "duration": 24,
    "start_time": "2023-07-27T05:24:47.650Z"
   },
   {
    "duration": 7,
    "start_time": "2023-07-27T05:24:49.266Z"
   },
   {
    "duration": 386,
    "start_time": "2023-07-27T05:28:03.024Z"
   },
   {
    "duration": 610,
    "start_time": "2023-07-27T05:28:19.489Z"
   },
   {
    "duration": 438,
    "start_time": "2023-07-27T05:29:36.395Z"
   },
   {
    "duration": 812,
    "start_time": "2023-07-27T05:30:36.068Z"
   },
   {
    "duration": 631,
    "start_time": "2023-07-27T05:32:02.937Z"
   },
   {
    "duration": 6173,
    "start_time": "2023-07-27T05:41:13.377Z"
   },
   {
    "duration": 2245,
    "start_time": "2023-07-27T05:41:42.724Z"
   },
   {
    "duration": 5,
    "start_time": "2023-07-27T05:41:58.195Z"
   },
   {
    "duration": 745,
    "start_time": "2023-07-27T05:41:58.205Z"
   },
   {
    "duration": 22,
    "start_time": "2023-07-27T05:41:58.952Z"
   },
   {
    "duration": 28,
    "start_time": "2023-07-27T05:41:58.976Z"
   },
   {
    "duration": 5087,
    "start_time": "2023-07-27T05:42:11.988Z"
   },
   {
    "duration": 580,
    "start_time": "2023-07-27T06:46:10.331Z"
   },
   {
    "duration": 420,
    "start_time": "2023-07-27T06:46:41.623Z"
   },
   {
    "duration": 440,
    "start_time": "2023-07-27T06:46:50.053Z"
   },
   {
    "duration": 774,
    "start_time": "2023-07-27T06:48:57.559Z"
   },
   {
    "duration": 788,
    "start_time": "2023-07-27T06:49:55.988Z"
   },
   {
    "duration": 421,
    "start_time": "2023-07-27T06:53:49.431Z"
   },
   {
    "duration": 421,
    "start_time": "2023-07-27T06:54:41.391Z"
   },
   {
    "duration": 5,
    "start_time": "2023-07-27T06:58:13.481Z"
   },
   {
    "duration": 5373,
    "start_time": "2023-07-27T07:01:42.843Z"
   },
   {
    "duration": 1311,
    "start_time": "2023-07-27T07:01:54.184Z"
   },
   {
    "duration": 1949,
    "start_time": "2023-07-27T07:02:50.827Z"
   },
   {
    "duration": 1828,
    "start_time": "2023-07-27T07:02:56.253Z"
   },
   {
    "duration": 3580,
    "start_time": "2023-07-27T07:03:00.325Z"
   },
   {
    "duration": 5,
    "start_time": "2023-07-27T07:03:37.559Z"
   },
   {
    "duration": 770,
    "start_time": "2023-07-27T07:03:37.565Z"
   },
   {
    "duration": 31,
    "start_time": "2023-07-27T07:03:38.338Z"
   },
   {
    "duration": 13,
    "start_time": "2023-07-27T07:03:38.371Z"
   },
   {
    "duration": 13,
    "start_time": "2023-07-27T07:03:38.386Z"
   },
   {
    "duration": 5,
    "start_time": "2023-07-27T07:03:38.401Z"
   },
   {
    "duration": 5269,
    "start_time": "2023-07-27T07:03:44.528Z"
   },
   {
    "duration": 3866,
    "start_time": "2023-07-27T07:04:27.917Z"
   },
   {
    "duration": 1740,
    "start_time": "2023-07-27T07:05:10.299Z"
   },
   {
    "duration": 5,
    "start_time": "2023-07-27T07:06:20.201Z"
   },
   {
    "duration": 1836,
    "start_time": "2023-07-27T07:06:24.077Z"
   },
   {
    "duration": 4,
    "start_time": "2023-07-27T07:07:23.192Z"
   },
   {
    "duration": 2,
    "start_time": "2023-07-27T07:09:43.129Z"
   },
   {
    "duration": 5623,
    "start_time": "2023-07-27T07:09:46.896Z"
   },
   {
    "duration": 3,
    "start_time": "2023-07-27T07:10:46.478Z"
   },
   {
    "duration": 1286,
    "start_time": "2023-07-27T07:10:49.614Z"
   },
   {
    "duration": 519,
    "start_time": "2023-07-27T07:18:01.215Z"
   },
   {
    "duration": 2417,
    "start_time": "2023-07-27T07:18:08.445Z"
   },
   {
    "duration": 400,
    "start_time": "2023-07-27T07:19:20.780Z"
   },
   {
    "duration": 157,
    "start_time": "2023-07-27T07:19:36.879Z"
   },
   {
    "duration": 391,
    "start_time": "2023-07-27T07:19:41.521Z"
   },
   {
    "duration": 766,
    "start_time": "2023-07-27T07:20:27.499Z"
   },
   {
    "duration": 373,
    "start_time": "2023-07-27T07:21:12.094Z"
   },
   {
    "duration": 42,
    "start_time": "2023-07-27T07:21:15.036Z"
   },
   {
    "duration": 386,
    "start_time": "2023-07-27T07:22:22.004Z"
   },
   {
    "duration": 25,
    "start_time": "2023-07-27T07:22:26.050Z"
   },
   {
    "duration": 4,
    "start_time": "2023-07-27T08:42:38.030Z"
   },
   {
    "duration": 811,
    "start_time": "2023-07-27T08:42:38.036Z"
   },
   {
    "duration": 24,
    "start_time": "2023-07-27T08:42:38.848Z"
   },
   {
    "duration": 10,
    "start_time": "2023-07-27T08:42:38.874Z"
   },
   {
    "duration": 21,
    "start_time": "2023-07-27T08:42:38.886Z"
   },
   {
    "duration": 15,
    "start_time": "2023-07-27T08:42:38.909Z"
   },
   {
    "duration": 649,
    "start_time": "2023-07-27T08:42:38.926Z"
   },
   {
    "duration": 24,
    "start_time": "2023-07-27T08:42:39.576Z"
   },
   {
    "duration": 6,
    "start_time": "2023-07-27T08:43:34.519Z"
   },
   {
    "duration": 450,
    "start_time": "2023-07-27T08:44:18.005Z"
   },
   {
    "duration": 29,
    "start_time": "2023-07-27T08:44:18.651Z"
   },
   {
    "duration": 6,
    "start_time": "2023-07-27T08:44:39.639Z"
   },
   {
    "duration": 857,
    "start_time": "2023-07-27T08:44:39.647Z"
   },
   {
    "duration": 26,
    "start_time": "2023-07-27T08:44:40.506Z"
   },
   {
    "duration": 9,
    "start_time": "2023-07-27T08:44:40.534Z"
   },
   {
    "duration": 4,
    "start_time": "2023-07-27T08:44:40.544Z"
   },
   {
    "duration": 9,
    "start_time": "2023-07-27T08:44:40.549Z"
   },
   {
    "duration": 432,
    "start_time": "2023-07-27T08:44:40.560Z"
   },
   {
    "duration": 30,
    "start_time": "2023-07-27T08:44:43.313Z"
   },
   {
    "duration": 454,
    "start_time": "2023-07-27T08:45:38.636Z"
   },
   {
    "duration": 979,
    "start_time": "2023-07-27T08:45:41.419Z"
   },
   {
    "duration": 562,
    "start_time": "2023-07-27T08:46:36.736Z"
   },
   {
    "duration": 438,
    "start_time": "2023-07-27T08:47:56.867Z"
   },
   {
    "duration": 29,
    "start_time": "2023-07-27T08:47:57.975Z"
   },
   {
    "duration": 5,
    "start_time": "2023-07-27T08:52:23.851Z"
   },
   {
    "duration": 445,
    "start_time": "2023-07-27T08:52:24.511Z"
   },
   {
    "duration": 30,
    "start_time": "2023-07-27T08:52:26.219Z"
   },
   {
    "duration": 19,
    "start_time": "2023-07-27T09:00:25.039Z"
   },
   {
    "duration": 28,
    "start_time": "2023-07-27T09:00:43.501Z"
   },
   {
    "duration": 17,
    "start_time": "2023-07-27T09:01:59.428Z"
   },
   {
    "duration": 25,
    "start_time": "2023-07-27T09:04:03.239Z"
   },
   {
    "duration": 651,
    "start_time": "2023-07-27T09:04:05.521Z"
   },
   {
    "duration": 16,
    "start_time": "2023-07-27T09:04:06.798Z"
   },
   {
    "duration": 502,
    "start_time": "2023-07-27T09:11:40.651Z"
   },
   {
    "duration": 17,
    "start_time": "2023-07-27T09:11:43.565Z"
   },
   {
    "duration": 21,
    "start_time": "2023-07-27T09:11:47.372Z"
   },
   {
    "duration": 140525,
    "start_time": "2023-07-27T09:18:45.430Z"
   },
   {
    "duration": 4,
    "start_time": "2023-07-27T09:21:13.773Z"
   },
   {
    "duration": 811,
    "start_time": "2023-07-27T09:21:13.779Z"
   },
   {
    "duration": 29,
    "start_time": "2023-07-27T09:21:14.592Z"
   },
   {
    "duration": 14,
    "start_time": "2023-07-27T09:21:14.622Z"
   },
   {
    "duration": 8,
    "start_time": "2023-07-27T09:21:14.637Z"
   },
   {
    "duration": 12,
    "start_time": "2023-07-27T09:21:14.646Z"
   },
   {
    "duration": 555,
    "start_time": "2023-07-27T09:21:14.660Z"
   },
   {
    "duration": 18,
    "start_time": "2023-07-27T09:21:15.216Z"
   },
   {
    "duration": 257838,
    "start_time": "2023-07-27T09:21:17.571Z"
   },
   {
    "duration": 0,
    "start_time": "2023-07-27T10:01:31.560Z"
   },
   {
    "duration": 0,
    "start_time": "2023-07-27T10:01:31.561Z"
   },
   {
    "duration": 4,
    "start_time": "2023-07-27T10:01:37.762Z"
   },
   {
    "duration": 919,
    "start_time": "2023-07-27T10:01:37.769Z"
   },
   {
    "duration": 39,
    "start_time": "2023-07-27T10:01:38.689Z"
   },
   {
    "duration": 6,
    "start_time": "2023-07-27T10:01:38.730Z"
   },
   {
    "duration": 9,
    "start_time": "2023-07-27T10:01:38.737Z"
   },
   {
    "duration": 8,
    "start_time": "2023-07-27T10:01:38.747Z"
   },
   {
    "duration": 1061,
    "start_time": "2023-07-27T10:01:38.757Z"
   },
   {
    "duration": 20,
    "start_time": "2023-07-27T10:01:43.860Z"
   },
   {
    "duration": 7,
    "start_time": "2023-07-27T10:02:06.535Z"
   },
   {
    "duration": 526,
    "start_time": "2023-07-27T10:02:07.816Z"
   },
   {
    "duration": 17,
    "start_time": "2023-07-27T10:02:08.664Z"
   },
   {
    "duration": 6,
    "start_time": "2023-07-27T10:02:15.543Z"
   },
   {
    "duration": 528,
    "start_time": "2023-07-27T10:02:16.098Z"
   },
   {
    "duration": 17,
    "start_time": "2023-07-27T10:02:16.818Z"
   },
   {
    "duration": 654,
    "start_time": "2023-07-27T10:51:00.111Z"
   },
   {
    "duration": 24,
    "start_time": "2023-07-27T10:51:03.464Z"
   },
   {
    "duration": 13,
    "start_time": "2023-07-27T10:51:11.898Z"
   },
   {
    "duration": 476,
    "start_time": "2023-07-27T10:51:12.548Z"
   },
   {
    "duration": 26,
    "start_time": "2023-07-27T10:51:13.565Z"
   },
   {
    "duration": 739,
    "start_time": "2023-07-27T10:51:57.246Z"
   },
   {
    "duration": 10,
    "start_time": "2023-07-27T10:52:06.200Z"
   },
   {
    "duration": 432,
    "start_time": "2023-07-27T10:52:06.746Z"
   },
   {
    "duration": 388,
    "start_time": "2023-07-27T10:52:07.215Z"
   },
   {
    "duration": 6,
    "start_time": "2023-07-27T10:52:21.415Z"
   },
   {
    "duration": 586,
    "start_time": "2023-07-27T10:52:21.997Z"
   },
   {
    "duration": 1432,
    "start_time": "2023-07-27T10:52:22.864Z"
   },
   {
    "duration": 5,
    "start_time": "2023-07-27T10:52:39.099Z"
   },
   {
    "duration": 843,
    "start_time": "2023-07-27T10:52:39.109Z"
   },
   {
    "duration": 23,
    "start_time": "2023-07-27T10:52:39.954Z"
   },
   {
    "duration": 9,
    "start_time": "2023-07-27T10:52:39.978Z"
   },
   {
    "duration": 13,
    "start_time": "2023-07-27T10:52:40.004Z"
   },
   {
    "duration": 16,
    "start_time": "2023-07-27T10:52:40.019Z"
   },
   {
    "duration": 828,
    "start_time": "2023-07-27T10:52:40.036Z"
   },
   {
    "duration": 1394,
    "start_time": "2023-07-27T10:52:43.944Z"
   },
   {
    "duration": 1191,
    "start_time": "2023-07-27T10:52:53.646Z"
   },
   {
    "duration": 476,
    "start_time": "2023-07-27T10:53:06.314Z"
   },
   {
    "duration": 23,
    "start_time": "2023-07-27T10:53:07.293Z"
   },
   {
    "duration": 3,
    "start_time": "2023-07-27T10:57:05.846Z"
   },
   {
    "duration": 948,
    "start_time": "2023-07-27T10:57:05.851Z"
   },
   {
    "duration": 26,
    "start_time": "2023-07-27T10:57:06.814Z"
   },
   {
    "duration": 17,
    "start_time": "2023-07-27T10:57:06.841Z"
   },
   {
    "duration": 23,
    "start_time": "2023-07-27T10:57:06.860Z"
   },
   {
    "duration": 9,
    "start_time": "2023-07-27T10:57:10.106Z"
   },
   {
    "duration": 13,
    "start_time": "2023-07-27T11:02:39.711Z"
   },
   {
    "duration": 4195,
    "start_time": "2023-07-27T11:02:40.564Z"
   },
   {
    "duration": 4,
    "start_time": "2023-07-27T11:02:54.856Z"
   },
   {
    "duration": 1997,
    "start_time": "2023-07-27T11:03:53.183Z"
   },
   {
    "duration": 3462,
    "start_time": "2023-07-27T11:06:05.993Z"
   },
   {
    "duration": 4,
    "start_time": "2023-07-27T11:06:44.006Z"
   },
   {
    "duration": 1071778,
    "start_time": "2023-07-27T11:06:49.714Z"
   },
   {
    "duration": 4,
    "start_time": "2023-07-27T11:28:52.990Z"
   },
   {
    "duration": 475,
    "start_time": "2023-07-27T11:28:54.055Z"
   },
   {
    "duration": 17,
    "start_time": "2023-07-27T11:28:55.743Z"
   },
   {
    "duration": 2,
    "start_time": "2023-07-27T11:29:02.313Z"
   },
   {
    "duration": 28,
    "start_time": "2023-07-27T11:30:04.063Z"
   },
   {
    "duration": 17,
    "start_time": "2023-07-27T11:30:14.502Z"
   },
   {
    "duration": 22,
    "start_time": "2023-07-27T11:39:17.636Z"
   },
   {
    "duration": 5850,
    "start_time": "2023-07-27T11:40:07.006Z"
   },
   {
    "duration": 4560,
    "start_time": "2023-07-27T23:02:01.968Z"
   },
   {
    "duration": 2421,
    "start_time": "2023-07-27T23:02:06.530Z"
   },
   {
    "duration": 31,
    "start_time": "2023-07-27T23:02:08.953Z"
   },
   {
    "duration": 21,
    "start_time": "2023-07-27T23:02:08.986Z"
   },
   {
    "duration": 24,
    "start_time": "2023-07-27T23:02:09.009Z"
   },
   {
    "duration": 20,
    "start_time": "2023-07-27T23:02:09.035Z"
   },
   {
    "duration": 4055,
    "start_time": "2023-07-27T23:02:09.057Z"
   },
   {
    "duration": 4,
    "start_time": "2023-07-27T23:02:13.114Z"
   },
   {
    "duration": 1126646,
    "start_time": "2023-07-27T23:02:13.120Z"
   },
   {
    "duration": 6,
    "start_time": "2023-07-27T23:20:59.770Z"
   },
   {
    "duration": 909,
    "start_time": "2023-07-27T23:20:59.778Z"
   },
   {
    "duration": 24,
    "start_time": "2023-07-27T23:21:00.688Z"
   },
   {
    "duration": 54,
    "start_time": "2023-07-27T23:21:00.714Z"
   },
   {
    "duration": 5308,
    "start_time": "2023-07-27T23:21:00.770Z"
   },
   {
    "duration": 0,
    "start_time": "2023-07-27T23:21:06.080Z"
   },
   {
    "duration": 0,
    "start_time": "2023-07-27T23:21:06.081Z"
   },
   {
    "duration": 0,
    "start_time": "2023-07-27T23:21:06.082Z"
   },
   {
    "duration": 0,
    "start_time": "2023-07-27T23:21:06.084Z"
   },
   {
    "duration": 0,
    "start_time": "2023-07-27T23:21:06.085Z"
   },
   {
    "duration": 0,
    "start_time": "2023-07-27T23:21:06.086Z"
   },
   {
    "duration": 0,
    "start_time": "2023-07-27T23:21:06.087Z"
   },
   {
    "duration": 2334,
    "start_time": "2023-07-27T23:30:11.922Z"
   },
   {
    "duration": 7,
    "start_time": "2023-07-27T23:31:18.091Z"
   },
   {
    "duration": 6874,
    "start_time": "2023-07-27T23:32:12.534Z"
   },
   {
    "duration": 80,
    "start_time": "2023-07-27T23:35:38.419Z"
   },
   {
    "duration": 787,
    "start_time": "2023-07-27T23:54:32.111Z"
   },
   {
    "duration": 875,
    "start_time": "2023-07-27T23:57:25.886Z"
   },
   {
    "duration": 1359353,
    "start_time": "2023-07-27T23:57:35.751Z"
   },
   {
    "duration": 3,
    "start_time": "2023-07-28T00:21:41.804Z"
   },
   {
    "duration": 778110,
    "start_time": "2023-07-28T00:31:25.941Z"
   },
   {
    "duration": 1690824,
    "start_time": "2023-07-28T00:50:34.759Z"
   },
   {
    "duration": 20,
    "start_time": "2023-07-28T01:24:00.400Z"
   },
   {
    "duration": 27,
    "start_time": "2023-07-28T01:24:22.683Z"
   },
   {
    "duration": 1657,
    "start_time": "2023-07-28T01:24:52.691Z"
   },
   {
    "duration": 13,
    "start_time": "2023-07-28T01:25:23.325Z"
   },
   {
    "duration": 1343,
    "start_time": "2023-07-28T01:28:41.236Z"
   },
   {
    "duration": 5,
    "start_time": "2023-07-28T01:43:59.540Z"
   },
   {
    "duration": 1595,
    "start_time": "2023-07-28T01:44:08.206Z"
   },
   {
    "duration": 3,
    "start_time": "2023-07-28T01:53:58.548Z"
   },
   {
    "duration": 1400,
    "start_time": "2023-07-28T01:54:04.711Z"
   },
   {
    "duration": 166,
    "start_time": "2023-07-28T01:55:14.850Z"
   },
   {
    "duration": 173,
    "start_time": "2023-07-28T01:55:50.027Z"
   },
   {
    "duration": 161,
    "start_time": "2023-07-28T01:57:30.667Z"
   },
   {
    "duration": 171,
    "start_time": "2023-07-28T01:57:48.744Z"
   },
   {
    "duration": 161,
    "start_time": "2023-07-28T01:58:18.425Z"
   },
   {
    "duration": 1468,
    "start_time": "2023-07-28T02:01:13.319Z"
   },
   {
    "duration": 1440,
    "start_time": "2023-07-28T02:01:50.326Z"
   },
   {
    "duration": 1460,
    "start_time": "2023-07-28T02:02:20.309Z"
   },
   {
    "duration": 3,
    "start_time": "2023-07-28T02:14:26.628Z"
   },
   {
    "duration": 5,
    "start_time": "2023-07-28T02:25:20.854Z"
   },
   {
    "duration": 807,
    "start_time": "2023-07-28T02:25:20.860Z"
   },
   {
    "duration": 36,
    "start_time": "2023-07-28T02:25:21.669Z"
   },
   {
    "duration": 7,
    "start_time": "2023-07-28T02:25:21.707Z"
   },
   {
    "duration": 2,
    "start_time": "2023-07-28T02:25:21.717Z"
   },
   {
    "duration": 17,
    "start_time": "2023-07-28T02:25:21.721Z"
   },
   {
    "duration": 4210,
    "start_time": "2023-07-28T02:25:21.740Z"
   },
   {
    "duration": 5,
    "start_time": "2023-07-28T02:25:25.952Z"
   },
   {
    "duration": 1169610,
    "start_time": "2023-07-28T02:25:25.959Z"
   },
   {
    "duration": 5,
    "start_time": "2023-07-28T02:44:55.571Z"
   },
   {
    "duration": 560,
    "start_time": "2023-07-28T02:44:55.588Z"
   },
   {
    "duration": 21,
    "start_time": "2023-07-28T02:44:56.150Z"
   },
   {
    "duration": 3,
    "start_time": "2023-07-28T02:44:56.172Z"
   },
   {
    "duration": 13,
    "start_time": "2023-07-28T02:44:56.188Z"
   },
   {
    "duration": 72,
    "start_time": "2023-07-28T02:44:56.203Z"
   },
   {
    "duration": 2,
    "start_time": "2023-07-28T02:44:56.277Z"
   }
  ],
  "kernelspec": {
   "display_name": "Python 3",
   "language": "python",
   "name": "python3"
  },
  "language_info": {
   "codemirror_mode": {
    "name": "ipython",
    "version": 3
   },
   "file_extension": ".py",
   "mimetype": "text/x-python",
   "name": "python",
   "nbconvert_exporter": "python",
   "pygments_lexer": "ipython3",
   "version": "3.8.8"
  },
  "toc": {
   "base_numbering": 1,
   "nav_menu": {},
   "number_sections": true,
   "sideBar": true,
   "skip_h1_title": true,
   "title_cell": "Содержание",
   "title_sidebar": "Contents",
   "toc_cell": true,
   "toc_position": {
    "height": "calc(100% - 180px)",
    "left": "10px",
    "top": "150px",
    "width": "302.391px"
   },
   "toc_section_display": true,
   "toc_window_display": false
  }
 },
 "nbformat": 4,
 "nbformat_minor": 2
}
